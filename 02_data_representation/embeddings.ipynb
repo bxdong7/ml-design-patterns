{
  "cells": [
    {
      "cell_type": "markdown",
      "metadata": {
        "id": "xGOD_fdR5vOc"
      },
      "source": [
        "## Embeddings\n",
        "\n",
        "An embedding is a low-dimensional, vector representation of a (typically) high-dimensional feature which maintains the semantic meaning of the feature in a such a way that similar features are close in the embedding space."
      ]
    },
    {
      "cell_type": "code",
      "execution_count": 1,
      "metadata": {
        "id": "2q5nCsX_5vOd"
      },
      "outputs": [],
      "source": [
        "import shutil\n",
        "import os\n",
        "\n",
        "import pandas as pd\n",
        "import tensorflow as tf\n",
        "\n",
        "from tensorflow import keras\n",
        "from tensorflow.keras import callbacks, layers, models, utils\n",
        "from tensorflow.keras.preprocessing.text import Tokenizer\n",
        "from tensorflow.keras.preprocessing.sequence import pad_sequences\n",
        "from tensorflow_hub import KerasLayer"
      ]
    },
    {
      "cell_type": "markdown",
      "metadata": {
        "id": "3q02CxQX5vOe"
      },
      "source": [
        "### Embedding layer for categorical data"
      ]
    },
    {
      "cell_type": "code",
      "execution_count": 5,
      "metadata": {
        "id": "u1ANxCX25vOe",
        "outputId": "9506b507-f2de-479d-e282-fbd59b586283",
        "colab": {
          "base_uri": "https://localhost:8080/"
        }
      },
      "outputs": [
        {
          "output_type": "stream",
          "name": "stdout",
          "text": [
            "weight_pounds,is_male,mother_age,plurality,gestation_weeks\n",
            "5.2690480617999995,false,15,Single(1),28\n",
            "6.37576861704,Unknown,15,Single(1),30\n",
            "7.7492485093,true,42,Single(1),31\n",
            "1.25002102554,true,14,Twins(2),25\n",
            "8.68841774542,true,15,Single(1),31\n",
            "1.25002102554,Unknown,42,Single(1),23\n",
            "7.50012615324,true,15,Single(1),45\n",
            "6.37576861704,true,15,Single(1),47\n",
            "4.7509617461,true,42,Single(1),25\n"
          ]
        }
      ],
      "source": [
        "!head ./data/babyweight_sample.csv"
      ]
    },
    {
      "cell_type": "code",
      "execution_count": 6,
      "metadata": {
        "id": "1IILFT1n5vOe",
        "outputId": "271899b5-05e5-471d-86c5-f5533bcf68a7",
        "colab": {
          "base_uri": "https://localhost:8080/",
          "height": 241
        }
      },
      "outputs": [
        {
          "output_type": "execute_result",
          "data": {
            "text/plain": [
              "0    Single(1)\n",
              "1    Single(1)\n",
              "2    Single(1)\n",
              "3     Twins(2)\n",
              "4    Single(1)\n",
              "Name: plurality, dtype: object"
            ],
            "text/html": [
              "<div>\n",
              "<style scoped>\n",
              "    .dataframe tbody tr th:only-of-type {\n",
              "        vertical-align: middle;\n",
              "    }\n",
              "\n",
              "    .dataframe tbody tr th {\n",
              "        vertical-align: top;\n",
              "    }\n",
              "\n",
              "    .dataframe thead th {\n",
              "        text-align: right;\n",
              "    }\n",
              "</style>\n",
              "<table border=\"1\" class=\"dataframe\">\n",
              "  <thead>\n",
              "    <tr style=\"text-align: right;\">\n",
              "      <th></th>\n",
              "      <th>plurality</th>\n",
              "    </tr>\n",
              "  </thead>\n",
              "  <tbody>\n",
              "    <tr>\n",
              "      <th>0</th>\n",
              "      <td>Single(1)</td>\n",
              "    </tr>\n",
              "    <tr>\n",
              "      <th>1</th>\n",
              "      <td>Single(1)</td>\n",
              "    </tr>\n",
              "    <tr>\n",
              "      <th>2</th>\n",
              "      <td>Single(1)</td>\n",
              "    </tr>\n",
              "    <tr>\n",
              "      <th>3</th>\n",
              "      <td>Twins(2)</td>\n",
              "    </tr>\n",
              "    <tr>\n",
              "      <th>4</th>\n",
              "      <td>Single(1)</td>\n",
              "    </tr>\n",
              "  </tbody>\n",
              "</table>\n",
              "</div><br><label><b>dtype:</b> object</label>"
            ]
          },
          "metadata": {},
          "execution_count": 6
        }
      ],
      "source": [
        "df = pd.read_csv(\"./data/babyweight_sample.csv\")\n",
        "df.plurality.head(5)"
      ]
    },
    {
      "cell_type": "code",
      "execution_count": 7,
      "metadata": {
        "id": "-kwMUzyc5vOe",
        "outputId": "2b92488f-e428-47ef-ed90-0fa9bef866ab",
        "colab": {
          "base_uri": "https://localhost:8080/"
        }
      },
      "outputs": [
        {
          "output_type": "execute_result",
          "data": {
            "text/plain": [
              "array(['Single(1)', 'Twins(2)', 'Triplets(3)', 'Multiple(2+)',\n",
              "       'Quadruplets(4)'], dtype=object)"
            ]
          },
          "metadata": {},
          "execution_count": 7
        }
      ],
      "source": [
        "df.plurality.unique()"
      ]
    },
    {
      "cell_type": "code",
      "execution_count": 8,
      "metadata": {
        "id": "WdCrhy1D5vOf"
      },
      "outputs": [],
      "source": [
        "CLASSES = {\n",
        "    'Single(1)': 0,\n",
        "    'Multiple(2+)': 1,\n",
        "    'Twins(2)': 2,\n",
        "    'Triplets(3)': 3,\n",
        "    'Quadruplets(4)': 4,\n",
        "    'Quintuplets(5)': 5\n",
        "}\n",
        "N_CLASSES = len(CLASSES)"
      ]
    },
    {
      "cell_type": "markdown",
      "metadata": {
        "id": "LS5Io3_H5vOf"
      },
      "source": [
        "Convert the plurality to a numeric index."
      ]
    },
    {
      "cell_type": "code",
      "execution_count": 9,
      "metadata": {
        "id": "OKfDh_yj5vOf"
      },
      "outputs": [],
      "source": [
        "plurality_class = [CLASSES[plurality] for plurality in df.plurality]"
      ]
    },
    {
      "cell_type": "code",
      "execution_count": 10,
      "metadata": {
        "id": "CDkMknVX5vOf",
        "outputId": "0a406ecb-ee38-4c6b-d2a8-bf4b51b920e8",
        "colab": {
          "base_uri": "https://localhost:8080/"
        }
      },
      "outputs": [
        {
          "output_type": "stream",
          "name": "stdout",
          "text": [
            "0    Single(1)\n",
            "1    Single(1)\n",
            "2    Single(1)\n",
            "3     Twins(2)\n",
            "4    Single(1)\n",
            "Name: plurality, dtype: object\n",
            "[0, 0, 0, 2, 0]\n"
          ]
        }
      ],
      "source": [
        "print(df.plurality[:5])\n",
        "print(plurality_class[:5])"
      ]
    },
    {
      "cell_type": "markdown",
      "metadata": {
        "id": "WETE-U825vOf"
      },
      "source": [
        "Create an embedding layer. Supply arguments `input_dim` and `output_dim`\n",
        " - `input_dim` indicates the size of the vocabulary. For `plurality` this is 6.\n",
        " - `ouptut_dim` indicates the dimension of the dense embedding."
      ]
    },
    {
      "cell_type": "code",
      "execution_count": 11,
      "metadata": {
        "id": "27YNlBpl5vOf"
      },
      "outputs": [],
      "source": [
        "EMBED_DIM = 2\n",
        "\n",
        "embedding_layer = layers.Embedding(input_dim=N_CLASSES,\n",
        "                                   output_dim=EMBED_DIM)\n",
        "embeds = embedding_layer(tf.constant(plurality_class))"
      ]
    },
    {
      "cell_type": "markdown",
      "metadata": {
        "id": "A9Ng8vG35vOf"
      },
      "source": [
        "The variable `embeds` contains the two-dimensional for each plurality class."
      ]
    },
    {
      "cell_type": "code",
      "execution_count": 12,
      "metadata": {
        "id": "BgN9ofZg5vOf",
        "outputId": "3a322bfd-a5a4-4bb5-828f-404023c08460",
        "colab": {
          "base_uri": "https://localhost:8080/"
        }
      },
      "outputs": [
        {
          "output_type": "execute_result",
          "data": {
            "text/plain": [
              "TensorShape([999, 2])"
            ]
          },
          "metadata": {},
          "execution_count": 12
        }
      ],
      "source": [
        "embeds.shape"
      ]
    },
    {
      "cell_type": "code",
      "execution_count": 13,
      "metadata": {
        "id": "3G4eeaK45vOf",
        "outputId": "2491212b-96a0-4780-89b1-16e8f48a0b94",
        "colab": {
          "base_uri": "https://localhost:8080/"
        }
      },
      "outputs": [
        {
          "output_type": "execute_result",
          "data": {
            "text/plain": [
              "<tf.Tensor: shape=(5, 2), dtype=float32, numpy=\n",
              "array([[ 0.04187994, -0.03124908],\n",
              "       [ 0.04187994, -0.03124908],\n",
              "       [ 0.04187994, -0.03124908],\n",
              "       [-0.04020516,  0.01509083],\n",
              "       [ 0.04187994, -0.03124908]], dtype=float32)>"
            ]
          },
          "metadata": {},
          "execution_count": 13
        }
      ],
      "source": [
        "embeds[:5]"
      ]
    },
    {
      "cell_type": "markdown",
      "metadata": {
        "id": "qEEYXYD-5vOf"
      },
      "source": [
        "### Embedding Layers in a Keras model\n",
        "\n",
        "In this section, we will implement text models to recognize the probable source (Github, Tech-Crunch, or The New-York Times) of the titles we have in the title dataset we constructed in the previous lab.\n",
        "\n",
        "In a first step, we will load and pre-process the texts and labels so that they are suitable to be fed to a Keras model. For the texts of the titles we will learn how to split them into a list of tokens, and then how to map each token to an integer using the Keras Tokenizer class. What will be fed to our Keras models will be batches of padded list of integers representing the text. For the labels, we will learn how to one-hot-encode each of the 3 classes into a 3 dimensional basis vector.\n",
        "\n",
        "Then we will explore a few possible models to do the title classification. All models will be fed padded list of integers, and all models will start with a Keras Embedding layer that transforms the integer representing the words into dense vectors.\n",
        "\n",
        "Our model will be a simple bag-of-words DNN model that averages up the word vectors and feeds the tensor that results to further dense layers. Doing so means that we forget the word order (and hence that we consider sentences as a “bag-of-words”). Using an RNN or a 1-dimensional CNN would allow us to maintain the order of word embeddings in our model."
      ]
    },
    {
      "cell_type": "markdown",
      "metadata": {
        "id": "3FEgbKbk5vOg"
      },
      "source": [
        "#### Load dataset"
      ]
    },
    {
      "cell_type": "markdown",
      "metadata": {
        "id": "-8w0tiVR5vOg"
      },
      "source": [
        "Let's start by specifying where the information about the trained models will be saved as well as where our dataset is located:"
      ]
    },
    {
      "cell_type": "code",
      "execution_count": 14,
      "metadata": {
        "id": "zPIhqST85vOg"
      },
      "outputs": [],
      "source": [
        "LOGDIR = \"./text_models\"\n",
        "DATA_DIR = \"./data\""
      ]
    },
    {
      "cell_type": "markdown",
      "metadata": {
        "id": "zYY-JPSw5vOg"
      },
      "source": [
        "Our dataset consists of titles of articles along with the label indicating from which source these articles have been taken from (GitHub, Tech-Crunch, or the New-York Times)."
      ]
    },
    {
      "cell_type": "code",
      "execution_count": 15,
      "metadata": {
        "id": "T_d19c5U5vOg",
        "outputId": "542ed9d4-f4c8-4f82-c607-b589fef43c8f",
        "colab": {
          "base_uri": "https://localhost:8080/",
          "height": 206
        }
      },
      "outputs": [
        {
          "output_type": "execute_result",
          "data": {
            "text/plain": [
              "                                               title   source\n",
              "0            holy cash cow  batman - content is back  nytimes\n",
              "1  show hn  a simple and configurable deployment ...   github\n",
              "2  show hn  neural turing machine in pure numpy. ...   github\n",
              "3  close look at a flu outbreak upends some commo...  nytimes\n",
              "4  lambdalite  a functional  relational lisp data...   github"
            ],
            "text/html": [
              "\n",
              "  <div id=\"df-1fab587d-7cae-430e-acbd-07844aeff8ec\" class=\"colab-df-container\">\n",
              "    <div>\n",
              "<style scoped>\n",
              "    .dataframe tbody tr th:only-of-type {\n",
              "        vertical-align: middle;\n",
              "    }\n",
              "\n",
              "    .dataframe tbody tr th {\n",
              "        vertical-align: top;\n",
              "    }\n",
              "\n",
              "    .dataframe thead th {\n",
              "        text-align: right;\n",
              "    }\n",
              "</style>\n",
              "<table border=\"1\" class=\"dataframe\">\n",
              "  <thead>\n",
              "    <tr style=\"text-align: right;\">\n",
              "      <th></th>\n",
              "      <th>title</th>\n",
              "      <th>source</th>\n",
              "    </tr>\n",
              "  </thead>\n",
              "  <tbody>\n",
              "    <tr>\n",
              "      <th>0</th>\n",
              "      <td>holy cash cow  batman - content is back</td>\n",
              "      <td>nytimes</td>\n",
              "    </tr>\n",
              "    <tr>\n",
              "      <th>1</th>\n",
              "      <td>show hn  a simple and configurable deployment ...</td>\n",
              "      <td>github</td>\n",
              "    </tr>\n",
              "    <tr>\n",
              "      <th>2</th>\n",
              "      <td>show hn  neural turing machine in pure numpy. ...</td>\n",
              "      <td>github</td>\n",
              "    </tr>\n",
              "    <tr>\n",
              "      <th>3</th>\n",
              "      <td>close look at a flu outbreak upends some commo...</td>\n",
              "      <td>nytimes</td>\n",
              "    </tr>\n",
              "    <tr>\n",
              "      <th>4</th>\n",
              "      <td>lambdalite  a functional  relational lisp data...</td>\n",
              "      <td>github</td>\n",
              "    </tr>\n",
              "  </tbody>\n",
              "</table>\n",
              "</div>\n",
              "    <div class=\"colab-df-buttons\">\n",
              "\n",
              "  <div class=\"colab-df-container\">\n",
              "    <button class=\"colab-df-convert\" onclick=\"convertToInteractive('df-1fab587d-7cae-430e-acbd-07844aeff8ec')\"\n",
              "            title=\"Convert this dataframe to an interactive table.\"\n",
              "            style=\"display:none;\">\n",
              "\n",
              "  <svg xmlns=\"http://www.w3.org/2000/svg\" height=\"24px\" viewBox=\"0 -960 960 960\">\n",
              "    <path d=\"M120-120v-720h720v720H120Zm60-500h600v-160H180v160Zm220 220h160v-160H400v160Zm0 220h160v-160H400v160ZM180-400h160v-160H180v160Zm440 0h160v-160H620v160ZM180-180h160v-160H180v160Zm440 0h160v-160H620v160Z\"/>\n",
              "  </svg>\n",
              "    </button>\n",
              "\n",
              "  <style>\n",
              "    .colab-df-container {\n",
              "      display:flex;\n",
              "      gap: 12px;\n",
              "    }\n",
              "\n",
              "    .colab-df-convert {\n",
              "      background-color: #E8F0FE;\n",
              "      border: none;\n",
              "      border-radius: 50%;\n",
              "      cursor: pointer;\n",
              "      display: none;\n",
              "      fill: #1967D2;\n",
              "      height: 32px;\n",
              "      padding: 0 0 0 0;\n",
              "      width: 32px;\n",
              "    }\n",
              "\n",
              "    .colab-df-convert:hover {\n",
              "      background-color: #E2EBFA;\n",
              "      box-shadow: 0px 1px 2px rgba(60, 64, 67, 0.3), 0px 1px 3px 1px rgba(60, 64, 67, 0.15);\n",
              "      fill: #174EA6;\n",
              "    }\n",
              "\n",
              "    .colab-df-buttons div {\n",
              "      margin-bottom: 4px;\n",
              "    }\n",
              "\n",
              "    [theme=dark] .colab-df-convert {\n",
              "      background-color: #3B4455;\n",
              "      fill: #D2E3FC;\n",
              "    }\n",
              "\n",
              "    [theme=dark] .colab-df-convert:hover {\n",
              "      background-color: #434B5C;\n",
              "      box-shadow: 0px 1px 3px 1px rgba(0, 0, 0, 0.15);\n",
              "      filter: drop-shadow(0px 1px 2px rgba(0, 0, 0, 0.3));\n",
              "      fill: #FFFFFF;\n",
              "    }\n",
              "  </style>\n",
              "\n",
              "    <script>\n",
              "      const buttonEl =\n",
              "        document.querySelector('#df-1fab587d-7cae-430e-acbd-07844aeff8ec button.colab-df-convert');\n",
              "      buttonEl.style.display =\n",
              "        google.colab.kernel.accessAllowed ? 'block' : 'none';\n",
              "\n",
              "      async function convertToInteractive(key) {\n",
              "        const element = document.querySelector('#df-1fab587d-7cae-430e-acbd-07844aeff8ec');\n",
              "        const dataTable =\n",
              "          await google.colab.kernel.invokeFunction('convertToInteractive',\n",
              "                                                    [key], {});\n",
              "        if (!dataTable) return;\n",
              "\n",
              "        const docLinkHtml = 'Like what you see? Visit the ' +\n",
              "          '<a target=\"_blank\" href=https://colab.research.google.com/notebooks/data_table.ipynb>data table notebook</a>'\n",
              "          + ' to learn more about interactive tables.';\n",
              "        element.innerHTML = '';\n",
              "        dataTable['output_type'] = 'display_data';\n",
              "        await google.colab.output.renderOutput(dataTable, element);\n",
              "        const docLink = document.createElement('div');\n",
              "        docLink.innerHTML = docLinkHtml;\n",
              "        element.appendChild(docLink);\n",
              "      }\n",
              "    </script>\n",
              "  </div>\n",
              "\n",
              "\n",
              "<div id=\"df-abf8bfda-a54d-486e-903a-600157ca3ae4\">\n",
              "  <button class=\"colab-df-quickchart\" onclick=\"quickchart('df-abf8bfda-a54d-486e-903a-600157ca3ae4')\"\n",
              "            title=\"Suggest charts\"\n",
              "            style=\"display:none;\">\n",
              "\n",
              "<svg xmlns=\"http://www.w3.org/2000/svg\" height=\"24px\"viewBox=\"0 0 24 24\"\n",
              "     width=\"24px\">\n",
              "    <g>\n",
              "        <path d=\"M19 3H5c-1.1 0-2 .9-2 2v14c0 1.1.9 2 2 2h14c1.1 0 2-.9 2-2V5c0-1.1-.9-2-2-2zM9 17H7v-7h2v7zm4 0h-2V7h2v10zm4 0h-2v-4h2v4z\"/>\n",
              "    </g>\n",
              "</svg>\n",
              "  </button>\n",
              "\n",
              "<style>\n",
              "  .colab-df-quickchart {\n",
              "      --bg-color: #E8F0FE;\n",
              "      --fill-color: #1967D2;\n",
              "      --hover-bg-color: #E2EBFA;\n",
              "      --hover-fill-color: #174EA6;\n",
              "      --disabled-fill-color: #AAA;\n",
              "      --disabled-bg-color: #DDD;\n",
              "  }\n",
              "\n",
              "  [theme=dark] .colab-df-quickchart {\n",
              "      --bg-color: #3B4455;\n",
              "      --fill-color: #D2E3FC;\n",
              "      --hover-bg-color: #434B5C;\n",
              "      --hover-fill-color: #FFFFFF;\n",
              "      --disabled-bg-color: #3B4455;\n",
              "      --disabled-fill-color: #666;\n",
              "  }\n",
              "\n",
              "  .colab-df-quickchart {\n",
              "    background-color: var(--bg-color);\n",
              "    border: none;\n",
              "    border-radius: 50%;\n",
              "    cursor: pointer;\n",
              "    display: none;\n",
              "    fill: var(--fill-color);\n",
              "    height: 32px;\n",
              "    padding: 0;\n",
              "    width: 32px;\n",
              "  }\n",
              "\n",
              "  .colab-df-quickchart:hover {\n",
              "    background-color: var(--hover-bg-color);\n",
              "    box-shadow: 0 1px 2px rgba(60, 64, 67, 0.3), 0 1px 3px 1px rgba(60, 64, 67, 0.15);\n",
              "    fill: var(--button-hover-fill-color);\n",
              "  }\n",
              "\n",
              "  .colab-df-quickchart-complete:disabled,\n",
              "  .colab-df-quickchart-complete:disabled:hover {\n",
              "    background-color: var(--disabled-bg-color);\n",
              "    fill: var(--disabled-fill-color);\n",
              "    box-shadow: none;\n",
              "  }\n",
              "\n",
              "  .colab-df-spinner {\n",
              "    border: 2px solid var(--fill-color);\n",
              "    border-color: transparent;\n",
              "    border-bottom-color: var(--fill-color);\n",
              "    animation:\n",
              "      spin 1s steps(1) infinite;\n",
              "  }\n",
              "\n",
              "  @keyframes spin {\n",
              "    0% {\n",
              "      border-color: transparent;\n",
              "      border-bottom-color: var(--fill-color);\n",
              "      border-left-color: var(--fill-color);\n",
              "    }\n",
              "    20% {\n",
              "      border-color: transparent;\n",
              "      border-left-color: var(--fill-color);\n",
              "      border-top-color: var(--fill-color);\n",
              "    }\n",
              "    30% {\n",
              "      border-color: transparent;\n",
              "      border-left-color: var(--fill-color);\n",
              "      border-top-color: var(--fill-color);\n",
              "      border-right-color: var(--fill-color);\n",
              "    }\n",
              "    40% {\n",
              "      border-color: transparent;\n",
              "      border-right-color: var(--fill-color);\n",
              "      border-top-color: var(--fill-color);\n",
              "    }\n",
              "    60% {\n",
              "      border-color: transparent;\n",
              "      border-right-color: var(--fill-color);\n",
              "    }\n",
              "    80% {\n",
              "      border-color: transparent;\n",
              "      border-right-color: var(--fill-color);\n",
              "      border-bottom-color: var(--fill-color);\n",
              "    }\n",
              "    90% {\n",
              "      border-color: transparent;\n",
              "      border-bottom-color: var(--fill-color);\n",
              "    }\n",
              "  }\n",
              "</style>\n",
              "\n",
              "  <script>\n",
              "    async function quickchart(key) {\n",
              "      const quickchartButtonEl =\n",
              "        document.querySelector('#' + key + ' button');\n",
              "      quickchartButtonEl.disabled = true;  // To prevent multiple clicks.\n",
              "      quickchartButtonEl.classList.add('colab-df-spinner');\n",
              "      try {\n",
              "        const charts = await google.colab.kernel.invokeFunction(\n",
              "            'suggestCharts', [key], {});\n",
              "      } catch (error) {\n",
              "        console.error('Error during call to suggestCharts:', error);\n",
              "      }\n",
              "      quickchartButtonEl.classList.remove('colab-df-spinner');\n",
              "      quickchartButtonEl.classList.add('colab-df-quickchart-complete');\n",
              "    }\n",
              "    (() => {\n",
              "      let quickchartButtonEl =\n",
              "        document.querySelector('#df-abf8bfda-a54d-486e-903a-600157ca3ae4 button');\n",
              "      quickchartButtonEl.style.display =\n",
              "        google.colab.kernel.accessAllowed ? 'block' : 'none';\n",
              "    })();\n",
              "  </script>\n",
              "</div>\n",
              "\n",
              "    </div>\n",
              "  </div>\n"
            ],
            "application/vnd.google.colaboratory.intrinsic+json": {
              "type": "dataframe",
              "variable_name": "titles_df",
              "summary": "{\n  \"name\": \"titles_df\",\n  \"rows\": 53628,\n  \"fields\": [\n    {\n      \"column\": \"title\",\n      \"properties\": {\n        \"dtype\": \"string\",\n        \"num_unique_values\": 52353,\n        \"samples\": [\n          \"a one-way trip to mars  many would sign up\",\n          \"stay the course  facebook. even if your share price crashes\",\n          \"create samsung s next nasa-powered product and get paid\"\n        ],\n        \"semantic_type\": \"\",\n        \"description\": \"\"\n      }\n    },\n    {\n      \"column\": \"source\",\n      \"properties\": {\n        \"dtype\": \"category\",\n        \"num_unique_values\": 3,\n        \"samples\": [\n          \"nytimes\",\n          \"github\",\n          \"techcrunch\"\n        ],\n        \"semantic_type\": \"\",\n        \"description\": \"\"\n      }\n    }\n  ]\n}"
            }
          },
          "metadata": {},
          "execution_count": 15
        }
      ],
      "source": [
        "DATASET_NAME = \"titles_full.csv\"\n",
        "TITLE_SAMPLE_PATH = os.path.join(DATA_DIR, DATASET_NAME)\n",
        "COLUMNS = ['title', 'source']\n",
        "\n",
        "titles_df = pd.read_csv(TITLE_SAMPLE_PATH, header=None, names=COLUMNS)\n",
        "titles_df.head()"
      ]
    },
    {
      "cell_type": "markdown",
      "metadata": {
        "id": "_Rla4hb05vOg"
      },
      "source": [
        "First, we'll find how many words we have in our dataset (`VOCAB_SIZE`), how many titles we have (`DATASET_SIZE`), and what the maximum length of the titles we have (`MAX_LEN`) is. Keras offers the `Tokenizer` class in its `keras.preprocessing.text` module to help us with this."
      ]
    },
    {
      "cell_type": "code",
      "execution_count": 16,
      "metadata": {
        "id": "Sji6s-1S5vOg"
      },
      "outputs": [],
      "source": [
        "tokenizer = Tokenizer()\n",
        "tokenizer.fit_on_texts(titles_df.title)\n",
        "integerized_titles = tokenizer.texts_to_sequences(titles_df.title)"
      ]
    },
    {
      "cell_type": "markdown",
      "metadata": {
        "id": "Wbmk534Y5vOg"
      },
      "source": [
        "The variable 'integerized_titles' contains the integer representation of each article title in out dataset."
      ]
    },
    {
      "cell_type": "code",
      "execution_count": 17,
      "metadata": {
        "id": "A-NLCoJw5vOg",
        "outputId": "6b0550ee-143b-4db1-e008-ef92ed67fe9d",
        "colab": {
          "base_uri": "https://localhost:8080/"
        }
      },
      "outputs": [
        {
          "output_type": "execute_result",
          "data": {
            "text/plain": [
              "[[6433, 510, 9785, 9786, 303, 13, 163],\n",
              " [11, 12, 1, 50, 7, 3767, 1399, 87, 4, 28, 427],\n",
              " [11, 12, 1436, 2324, 307, 5, 638, 7246, 5819, 78, 108, 1753, 17, 1169]]"
            ]
          },
          "metadata": {},
          "execution_count": 17
        }
      ],
      "source": [
        "integerized_titles[:3]"
      ]
    },
    {
      "cell_type": "markdown",
      "metadata": {
        "id": "y1PeEnG45vOg"
      },
      "source": [
        "From this and the `tokenizer` we can extract the `VOCAB_SIZE`, `DATASET_SIZE` and `MAX_LEN`."
      ]
    },
    {
      "cell_type": "code",
      "execution_count": 18,
      "metadata": {
        "id": "HWeM6K5E5vOg",
        "outputId": "42d4b84e-df80-4509-cf76-1a3a933672ab",
        "colab": {
          "base_uri": "https://localhost:8080/"
        }
      },
      "outputs": [
        {
          "output_type": "execute_result",
          "data": {
            "text/plain": [
              "35181"
            ]
          },
          "metadata": {},
          "execution_count": 18
        }
      ],
      "source": [
        "VOCAB_SIZE = len(tokenizer.index_word)\n",
        "VOCAB_SIZE"
      ]
    },
    {
      "cell_type": "code",
      "execution_count": 19,
      "metadata": {
        "id": "hjxGTvbY5vOg",
        "outputId": "51953b48-4c34-411f-dcb2-7ae42e8e4d72",
        "colab": {
          "base_uri": "https://localhost:8080/"
        }
      },
      "outputs": [
        {
          "output_type": "execute_result",
          "data": {
            "text/plain": [
              "53628"
            ]
          },
          "metadata": {},
          "execution_count": 19
        }
      ],
      "source": [
        "DATASET_SIZE = tokenizer.document_count\n",
        "DATASET_SIZE"
      ]
    },
    {
      "cell_type": "code",
      "execution_count": 20,
      "metadata": {
        "id": "jW9oMeKB5vOg",
        "outputId": "3f93d61a-4aa6-4ccb-dbd0-e4e447af26a6",
        "colab": {
          "base_uri": "https://localhost:8080/"
        }
      },
      "outputs": [
        {
          "output_type": "execute_result",
          "data": {
            "text/plain": [
              "25"
            ]
          },
          "metadata": {},
          "execution_count": 20
        }
      ],
      "source": [
        "MAX_LEN = max(len(sequence) for sequence in integerized_titles)\n",
        "MAX_LEN"
      ]
    },
    {
      "cell_type": "markdown",
      "metadata": {
        "id": "gy7mKixQ5vOg"
      },
      "source": [
        "#### Preprocess data\n",
        "We'll need to pad the elements of our title to feed into the model. Keras has the helper functions `pad_sequence` for that on the top of the tokenizer methods.\n",
        "\n",
        "The function `create_sequences` will\n",
        "* take as input our titles as well as the maximum sentence length and\n",
        "* returns a list of the integers corresponding to our tokens padded to the sentence maximum length"
      ]
    },
    {
      "cell_type": "code",
      "execution_count": 21,
      "metadata": {
        "id": "AGPCqr-L5vOg"
      },
      "outputs": [],
      "source": [
        "def create_sequences(texts, max_len=MAX_LEN):\n",
        "    sequences = tokenizer.texts_to_sequences(texts)\n",
        "    padded_sequences = pad_sequences(sequences,\n",
        "                                     max_len,\n",
        "                                     padding='post')\n",
        "    return padded_sequences"
      ]
    },
    {
      "cell_type": "code",
      "execution_count": 22,
      "metadata": {
        "id": "v6o5MWnu5vOh",
        "outputId": "da4a3ccc-6205-451c-9bb6-1ab432f4ed80",
        "colab": {
          "base_uri": "https://localhost:8080/"
        }
      },
      "outputs": [
        {
          "output_type": "execute_result",
          "data": {
            "text/plain": [
              "array([[ 6433,   510,  9785,  9786,   303,    13,   163,     0,     0,\n",
              "            0,     0,     0,     0,     0,     0,     0,     0,     0,\n",
              "            0,     0,     0,     0,     0,     0,     0],\n",
              "       [  970,   310,    23,     1,  3768,  7247, 12248,   195,   748,\n",
              "         5331,     0,     0,     0,     0,     0,     0,     0,     0,\n",
              "            0,     0,     0,     0,     0,     0,     0]], dtype=int32)"
            ]
          },
          "metadata": {},
          "execution_count": 22
        }
      ],
      "source": [
        "sample_titles = create_sequences([\"holy cash cow  batman - content is back\",\n",
        "                                 \"close look at a flu outbreak upends some common wisdom\"])\n",
        "sample_titles"
      ]
    },
    {
      "cell_type": "markdown",
      "metadata": {
        "id": "qxL1HiJV5vOh"
      },
      "source": [
        "Next, we'll convert our label to numeric, categorical variable."
      ]
    },
    {
      "cell_type": "code",
      "execution_count": 23,
      "metadata": {
        "id": "JYpbidZt5vOh"
      },
      "outputs": [],
      "source": [
        "CLASSES = {\n",
        "    'github': 0,\n",
        "    'nytimes': 1,\n",
        "    'techcrunch': 2\n",
        "}\n",
        "N_CLASSES = len(CLASSES)"
      ]
    },
    {
      "cell_type": "code",
      "execution_count": 24,
      "metadata": {
        "id": "tkrsCAPF5vOh"
      },
      "outputs": [],
      "source": [
        "def encode_labels(sources):\n",
        "    classes = [CLASSES[source] for source in sources]\n",
        "    one_hots = utils.to_categorical(classes)\n",
        "    return one_hots"
      ]
    },
    {
      "cell_type": "markdown",
      "metadata": {
        "id": "hbuNS-h_5vOh"
      },
      "source": [
        "Create train/validation split"
      ]
    },
    {
      "cell_type": "code",
      "execution_count": 25,
      "metadata": {
        "id": "449UI3s55vOh"
      },
      "outputs": [],
      "source": [
        "N_TRAIN = int(DATASET_SIZE * 0.80)\n",
        "\n",
        "titles_df = pd.read_csv(TITLE_SAMPLE_PATH, header=None, names=COLUMNS)\n",
        "titles_train, sources_train = (\n",
        "    titles_df.title[:N_TRAIN], titles_df.source[:N_TRAIN])\n",
        "\n",
        "titles_valid, sources_valid = (\n",
        "    titles_df.title[N_TRAIN:], titles_df.source[N_TRAIN:])"
      ]
    },
    {
      "cell_type": "code",
      "execution_count": 26,
      "metadata": {
        "id": "VKxRyxdr5vOh",
        "outputId": "73e0ef22-6827-4633-feb0-0f50846a8190",
        "colab": {
          "base_uri": "https://localhost:8080/",
          "height": 210
        }
      },
      "outputs": [
        {
          "output_type": "execute_result",
          "data": {
            "text/plain": [
              "source\n",
              "github        16296\n",
              "techcrunch    13873\n",
              "nytimes       12733\n",
              "Name: count, dtype: int64"
            ],
            "text/html": [
              "<div>\n",
              "<style scoped>\n",
              "    .dataframe tbody tr th:only-of-type {\n",
              "        vertical-align: middle;\n",
              "    }\n",
              "\n",
              "    .dataframe tbody tr th {\n",
              "        vertical-align: top;\n",
              "    }\n",
              "\n",
              "    .dataframe thead th {\n",
              "        text-align: right;\n",
              "    }\n",
              "</style>\n",
              "<table border=\"1\" class=\"dataframe\">\n",
              "  <thead>\n",
              "    <tr style=\"text-align: right;\">\n",
              "      <th></th>\n",
              "      <th>count</th>\n",
              "    </tr>\n",
              "    <tr>\n",
              "      <th>source</th>\n",
              "      <th></th>\n",
              "    </tr>\n",
              "  </thead>\n",
              "  <tbody>\n",
              "    <tr>\n",
              "      <th>github</th>\n",
              "      <td>16296</td>\n",
              "    </tr>\n",
              "    <tr>\n",
              "      <th>techcrunch</th>\n",
              "      <td>13873</td>\n",
              "    </tr>\n",
              "    <tr>\n",
              "      <th>nytimes</th>\n",
              "      <td>12733</td>\n",
              "    </tr>\n",
              "  </tbody>\n",
              "</table>\n",
              "</div><br><label><b>dtype:</b> int64</label>"
            ]
          },
          "metadata": {},
          "execution_count": 26
        }
      ],
      "source": [
        "sources_train.value_counts()"
      ]
    },
    {
      "cell_type": "markdown",
      "metadata": {
        "id": "w057ys655vOh"
      },
      "source": [
        "Then, prepare the data for the model."
      ]
    },
    {
      "cell_type": "code",
      "execution_count": 27,
      "metadata": {
        "id": "cQKwQOsi5vOh"
      },
      "outputs": [],
      "source": [
        "X_train, Y_train = create_sequences(titles_train), encode_labels(sources_train)\n",
        "X_valid, Y_valid = create_sequences(titles_valid), encode_labels(sources_valid)"
      ]
    },
    {
      "cell_type": "code",
      "execution_count": 28,
      "metadata": {
        "id": "ERKeky6F5vOh",
        "outputId": "af265d13-1eaf-4c7f-8c07-fc9bf20ab843",
        "colab": {
          "base_uri": "https://localhost:8080/"
        }
      },
      "outputs": [
        {
          "output_type": "execute_result",
          "data": {
            "text/plain": [
              "(array([[6433,  510, 9785, 9786,  303,   13,  163,    0,    0,    0,    0,\n",
              "            0,    0,    0,    0,    0,    0,    0,    0,    0,    0,    0,\n",
              "            0,    0,    0],\n",
              "        [  11,   12,    1,   50,    7, 3767, 1399,   87,    4,   28,  427,\n",
              "            0,    0,    0,    0,    0,    0,    0,    0,    0,    0,    0,\n",
              "            0,    0,    0],\n",
              "        [  11,   12, 1436, 2324,  307,    5,  638, 7246, 5819,   78,  108,\n",
              "         1753,   17, 1169,    0,    0,    0,    0,    0,    0,    0,    0,\n",
              "            0,    0,    0]], dtype=int32),\n",
              " array([[0., 1., 0.],\n",
              "        [1., 0., 0.],\n",
              "        [1., 0., 0.]]))"
            ]
          },
          "metadata": {},
          "execution_count": 28
        }
      ],
      "source": [
        "X_train[:3], Y_train[:3]"
      ]
    },
    {
      "cell_type": "markdown",
      "metadata": {
        "id": "qhH1DshX5vOh"
      },
      "source": [
        "#### Build a DNN model\n",
        "\n",
        "The `build_dnn_model` function below returns a compiled Keras model that implements a simple embedding layer transforming the word integers into dense vectors, followed by a Dense softmax layer that returns the probabilities for each class.\n",
        "\n",
        "\n",
        "Note that we need to put a custom Keras Lambda layer in between the Embedding layer and the Dense softmax layer to do an average of the word vectors returned by the embedding layer. This is the average that's fed to the dense softmax layer. By doing so, we create a model that is simple but that loses information about the word order, creating a model that sees sentences as \"bag-of-words\"."
      ]
    },
    {
      "cell_type": "code",
      "execution_count": 29,
      "metadata": {
        "id": "SzBoBrmc5vOh"
      },
      "outputs": [],
      "source": [
        "def build_dnn_model(embed_dim):\n",
        "\n",
        "    model = models.Sequential([\n",
        "        layers.Embedding(VOCAB_SIZE + 1,\n",
        "                         embed_dim,\n",
        "                         input_shape=[MAX_LEN]),\n",
        "        layers.Lambda(lambda x: tf.reduce_mean(x, axis=1)),\n",
        "        layers.Dense(N_CLASSES, activation='softmax')\n",
        "    ])\n",
        "\n",
        "    model.compile(\n",
        "        optimizer='adam',\n",
        "        loss='categorical_crossentropy',\n",
        "        metrics=['accuracy']\n",
        "    )\n",
        "    return model"
      ]
    },
    {
      "cell_type": "code",
      "execution_count": 30,
      "metadata": {
        "id": "8uPa02gK5vOh",
        "outputId": "0486e77b-899b-4f5d-f09d-118861b53dbb",
        "colab": {
          "base_uri": "https://localhost:8080/"
        }
      },
      "outputs": [
        {
          "output_type": "execute_result",
          "data": {
            "text/plain": [
              "(42902, 3)"
            ]
          },
          "metadata": {},
          "execution_count": 30
        }
      ],
      "source": [
        "Y_train.shape"
      ]
    },
    {
      "cell_type": "code",
      "execution_count": 31,
      "metadata": {
        "id": "zZiXWTEU5vOh",
        "outputId": "601b6e1e-c57e-493b-9a84-9ad1c8999bd7",
        "colab": {
          "base_uri": "https://localhost:8080/",
          "height": 1000
        }
      },
      "outputs": [
        {
          "output_type": "stream",
          "name": "stdout",
          "text": [
            "Epoch 1/100\n"
          ]
        },
        {
          "output_type": "stream",
          "name": "stderr",
          "text": [
            "/usr/local/lib/python3.10/dist-packages/keras/src/layers/core/embedding.py:93: UserWarning: Do not pass an `input_shape`/`input_dim` argument to a layer. When using Sequential models, prefer using an `Input(shape)` object as the first layer in the model instead.\n",
            "  super().__init__(**kwargs)\n"
          ]
        },
        {
          "output_type": "stream",
          "name": "stdout",
          "text": [
            "\u001b[1m144/144\u001b[0m \u001b[32m━━━━━━━━━━━━━━━━━━━━\u001b[0m\u001b[37m\u001b[0m \u001b[1m3s\u001b[0m 10ms/step - accuracy: 0.3903 - loss: 1.0764 - val_accuracy: 0.5249 - val_loss: 1.0140\n",
            "Epoch 2/100\n",
            "\u001b[1m144/144\u001b[0m \u001b[32m━━━━━━━━━━━━━━━━━━━━\u001b[0m\u001b[37m\u001b[0m \u001b[1m2s\u001b[0m 11ms/step - accuracy: 0.5686 - loss: 0.9817 - val_accuracy: 0.6825 - val_loss: 0.8951\n",
            "Epoch 3/100\n",
            "\u001b[1m144/144\u001b[0m \u001b[32m━━━━━━━━━━━━━━━━━━━━\u001b[0m\u001b[37m\u001b[0m \u001b[1m2s\u001b[0m 15ms/step - accuracy: 0.7129 - loss: 0.8599 - val_accuracy: 0.7362 - val_loss: 0.7938\n",
            "Epoch 4/100\n",
            "\u001b[1m144/144\u001b[0m \u001b[32m━━━━━━━━━━━━━━━━━━━━\u001b[0m\u001b[37m\u001b[0m \u001b[1m2s\u001b[0m 11ms/step - accuracy: 0.7546 - loss: 0.7614 - val_accuracy: 0.7639 - val_loss: 0.7193\n",
            "Epoch 5/100\n",
            "\u001b[1m144/144\u001b[0m \u001b[32m━━━━━━━━━━━━━━━━━━━━\u001b[0m\u001b[37m\u001b[0m \u001b[1m2s\u001b[0m 8ms/step - accuracy: 0.7805 - loss: 0.6868 - val_accuracy: 0.7820 - val_loss: 0.6611\n",
            "Epoch 6/100\n",
            "\u001b[1m144/144\u001b[0m \u001b[32m━━━━━━━━━━━━━━━━━━━━\u001b[0m\u001b[37m\u001b[0m \u001b[1m1s\u001b[0m 8ms/step - accuracy: 0.7997 - loss: 0.6267 - val_accuracy: 0.7947 - val_loss: 0.6138\n",
            "Epoch 7/100\n",
            "\u001b[1m144/144\u001b[0m \u001b[32m━━━━━━━━━━━━━━━━━━━━\u001b[0m\u001b[37m\u001b[0m \u001b[1m1s\u001b[0m 9ms/step - accuracy: 0.8143 - loss: 0.5766 - val_accuracy: 0.8037 - val_loss: 0.5752\n",
            "Epoch 8/100\n",
            "\u001b[1m144/144\u001b[0m \u001b[32m━━━━━━━━━━━━━━━━━━━━\u001b[0m\u001b[37m\u001b[0m \u001b[1m1s\u001b[0m 9ms/step - accuracy: 0.8250 - loss: 0.5347 - val_accuracy: 0.8110 - val_loss: 0.5437\n",
            "Epoch 9/100\n",
            "\u001b[1m144/144\u001b[0m \u001b[32m━━━━━━━━━━━━━━━━━━━━\u001b[0m\u001b[37m\u001b[0m \u001b[1m1s\u001b[0m 9ms/step - accuracy: 0.8344 - loss: 0.4996 - val_accuracy: 0.8176 - val_loss: 0.5180\n",
            "Epoch 10/100\n",
            "\u001b[1m144/144\u001b[0m \u001b[32m━━━━━━━━━━━━━━━━━━━━\u001b[0m\u001b[37m\u001b[0m \u001b[1m3s\u001b[0m 12ms/step - accuracy: 0.8419 - loss: 0.4698 - val_accuracy: 0.8231 - val_loss: 0.4967\n",
            "Epoch 11/100\n",
            "\u001b[1m144/144\u001b[0m \u001b[32m━━━━━━━━━━━━━━━━━━━━\u001b[0m\u001b[37m\u001b[0m \u001b[1m2s\u001b[0m 15ms/step - accuracy: 0.8483 - loss: 0.4442 - val_accuracy: 0.8270 - val_loss: 0.4791\n",
            "Epoch 12/100\n",
            "\u001b[1m144/144\u001b[0m \u001b[32m━━━━━━━━━━━━━━━━━━━━\u001b[0m\u001b[37m\u001b[0m \u001b[1m2s\u001b[0m 11ms/step - accuracy: 0.8545 - loss: 0.4219 - val_accuracy: 0.8302 - val_loss: 0.4642\n",
            "Epoch 13/100\n",
            "\u001b[1m144/144\u001b[0m \u001b[32m━━━━━━━━━━━━━━━━━━━━\u001b[0m\u001b[37m\u001b[0m \u001b[1m2s\u001b[0m 9ms/step - accuracy: 0.8609 - loss: 0.4022 - val_accuracy: 0.8328 - val_loss: 0.4516\n",
            "Epoch 14/100\n",
            "\u001b[1m144/144\u001b[0m \u001b[32m━━━━━━━━━━━━━━━━━━━━\u001b[0m\u001b[37m\u001b[0m \u001b[1m1s\u001b[0m 8ms/step - accuracy: 0.8658 - loss: 0.3847 - val_accuracy: 0.8355 - val_loss: 0.4408\n",
            "Epoch 15/100\n",
            "\u001b[1m144/144\u001b[0m \u001b[32m━━━━━━━━━━━━━━━━━━━━\u001b[0m\u001b[37m\u001b[0m \u001b[1m1s\u001b[0m 9ms/step - accuracy: 0.8705 - loss: 0.3688 - val_accuracy: 0.8366 - val_loss: 0.4316\n",
            "Epoch 16/100\n",
            "\u001b[1m144/144\u001b[0m \u001b[32m━━━━━━━━━━━━━━━━━━━━\u001b[0m\u001b[37m\u001b[0m \u001b[1m1s\u001b[0m 9ms/step - accuracy: 0.8755 - loss: 0.3544 - val_accuracy: 0.8381 - val_loss: 0.4236\n",
            "Epoch 17/100\n",
            "\u001b[1m144/144\u001b[0m \u001b[32m━━━━━━━━━━━━━━━━━━━━\u001b[0m\u001b[37m\u001b[0m \u001b[1m3s\u001b[0m 11ms/step - accuracy: 0.8802 - loss: 0.3411 - val_accuracy: 0.8396 - val_loss: 0.4167\n",
            "Epoch 18/100\n",
            "\u001b[1m144/144\u001b[0m \u001b[32m━━━━━━━━━━━━━━━━━━━━\u001b[0m\u001b[37m\u001b[0m \u001b[1m3s\u001b[0m 12ms/step - accuracy: 0.8846 - loss: 0.3288 - val_accuracy: 0.8410 - val_loss: 0.4107\n",
            "Epoch 19/100\n",
            "\u001b[1m144/144\u001b[0m \u001b[32m━━━━━━━━━━━━━━━━━━━━\u001b[0m\u001b[37m\u001b[0m \u001b[1m2s\u001b[0m 11ms/step - accuracy: 0.8884 - loss: 0.3174 - val_accuracy: 0.8425 - val_loss: 0.4055\n",
            "Epoch 20/100\n",
            "\u001b[1m144/144\u001b[0m \u001b[32m━━━━━━━━━━━━━━━━━━━━\u001b[0m\u001b[37m\u001b[0m \u001b[1m1s\u001b[0m 8ms/step - accuracy: 0.8919 - loss: 0.3067 - val_accuracy: 0.8435 - val_loss: 0.4009\n",
            "Epoch 21/100\n",
            "\u001b[1m144/144\u001b[0m \u001b[32m━━━━━━━━━━━━━━━━━━━━\u001b[0m\u001b[37m\u001b[0m \u001b[1m1s\u001b[0m 8ms/step - accuracy: 0.8953 - loss: 0.2966 - val_accuracy: 0.8449 - val_loss: 0.3970\n",
            "Epoch 22/100\n",
            "\u001b[1m144/144\u001b[0m \u001b[32m━━━━━━━━━━━━━━━━━━━━\u001b[0m\u001b[37m\u001b[0m \u001b[1m1s\u001b[0m 9ms/step - accuracy: 0.8994 - loss: 0.2871 - val_accuracy: 0.8460 - val_loss: 0.3937\n",
            "Epoch 23/100\n",
            "\u001b[1m144/144\u001b[0m \u001b[32m━━━━━━━━━━━━━━━━━━━━\u001b[0m\u001b[37m\u001b[0m \u001b[1m3s\u001b[0m 9ms/step - accuracy: 0.9032 - loss: 0.2782 - val_accuracy: 0.8468 - val_loss: 0.3908\n",
            "Epoch 24/100\n",
            "\u001b[1m144/144\u001b[0m \u001b[32m━━━━━━━━━━━━━━━━━━━━\u001b[0m\u001b[37m\u001b[0m \u001b[1m2s\u001b[0m 14ms/step - accuracy: 0.9068 - loss: 0.2696 - val_accuracy: 0.8469 - val_loss: 0.3884\n",
            "Epoch 25/100\n",
            "\u001b[1m144/144\u001b[0m \u001b[32m━━━━━━━━━━━━━━━━━━━━\u001b[0m\u001b[37m\u001b[0m \u001b[1m2s\u001b[0m 15ms/step - accuracy: 0.9094 - loss: 0.2615 - val_accuracy: 0.8476 - val_loss: 0.3864\n",
            "Epoch 26/100\n",
            "\u001b[1m144/144\u001b[0m \u001b[32m━━━━━━━━━━━━━━━━━━━━\u001b[0m\u001b[37m\u001b[0m \u001b[1m1s\u001b[0m 9ms/step - accuracy: 0.9128 - loss: 0.2538 - val_accuracy: 0.8473 - val_loss: 0.3848\n",
            "Epoch 27/100\n",
            "\u001b[1m144/144\u001b[0m \u001b[32m━━━━━━━━━━━━━━━━━━━━\u001b[0m\u001b[37m\u001b[0m \u001b[1m1s\u001b[0m 8ms/step - accuracy: 0.9157 - loss: 0.2464 - val_accuracy: 0.8473 - val_loss: 0.3835\n",
            "Epoch 28/100\n",
            "\u001b[1m144/144\u001b[0m \u001b[32m━━━━━━━━━━━━━━━━━━━━\u001b[0m\u001b[37m\u001b[0m \u001b[1m2s\u001b[0m 11ms/step - accuracy: 0.9176 - loss: 0.2394 - val_accuracy: 0.8474 - val_loss: 0.3826\n",
            "Epoch 29/100\n",
            "\u001b[1m144/144\u001b[0m \u001b[32m━━━━━━━━━━━━━━━━━━━━\u001b[0m\u001b[37m\u001b[0m \u001b[1m1s\u001b[0m 9ms/step - accuracy: 0.9191 - loss: 0.2326 - val_accuracy: 0.8476 - val_loss: 0.3819\n",
            "Epoch 30/100\n",
            "\u001b[1m144/144\u001b[0m \u001b[32m━━━━━━━━━━━━━━━━━━━━\u001b[0m\u001b[37m\u001b[0m \u001b[1m1s\u001b[0m 9ms/step - accuracy: 0.9215 - loss: 0.2261 - val_accuracy: 0.8475 - val_loss: 0.3816\n",
            "Epoch 31/100\n",
            "\u001b[1m144/144\u001b[0m \u001b[32m━━━━━━━━━━━━━━━━━━━━\u001b[0m\u001b[37m\u001b[0m \u001b[1m3s\u001b[0m 9ms/step - accuracy: 0.9242 - loss: 0.2199 - val_accuracy: 0.8475 - val_loss: 0.3815\n",
            "Epoch 32/100\n",
            "\u001b[1m144/144\u001b[0m \u001b[32m━━━━━━━━━━━━━━━━━━━━\u001b[0m\u001b[37m\u001b[0m \u001b[1m3s\u001b[0m 15ms/step - accuracy: 0.9269 - loss: 0.2139 - val_accuracy: 0.8472 - val_loss: 0.3816\n"
          ]
        },
        {
          "output_type": "display_data",
          "data": {
            "text/plain": [
              "\u001b[1mModel: \"sequential\"\u001b[0m\n"
            ],
            "text/html": [
              "<pre style=\"white-space:pre;overflow-x:auto;line-height:normal;font-family:Menlo,'DejaVu Sans Mono',consolas,'Courier New',monospace\"><span style=\"font-weight: bold\">Model: \"sequential\"</span>\n",
              "</pre>\n"
            ]
          },
          "metadata": {}
        },
        {
          "output_type": "display_data",
          "data": {
            "text/plain": [
              "┏━━━━━━━━━━━━━━━━━━━━━━━━━━━━━━━━━━━━━━┳━━━━━━━━━━━━━━━━━━━━━━━━━━━━━┳━━━━━━━━━━━━━━━━━┓\n",
              "┃\u001b[1m \u001b[0m\u001b[1mLayer (type)                        \u001b[0m\u001b[1m \u001b[0m┃\u001b[1m \u001b[0m\u001b[1mOutput Shape               \u001b[0m\u001b[1m \u001b[0m┃\u001b[1m \u001b[0m\u001b[1m        Param #\u001b[0m\u001b[1m \u001b[0m┃\n",
              "┡━━━━━━━━━━━━━━━━━━━━━━━━━━━━━━━━━━━━━━╇━━━━━━━━━━━━━━━━━━━━━━━━━━━━━╇━━━━━━━━━━━━━━━━━┩\n",
              "│ embedding_1 (\u001b[38;5;33mEmbedding\u001b[0m)              │ (\u001b[38;5;45mNone\u001b[0m, \u001b[38;5;34m25\u001b[0m, \u001b[38;5;34m10\u001b[0m)              │         \u001b[38;5;34m351,820\u001b[0m │\n",
              "├──────────────────────────────────────┼─────────────────────────────┼─────────────────┤\n",
              "│ lambda (\u001b[38;5;33mLambda\u001b[0m)                      │ (\u001b[38;5;45mNone\u001b[0m, \u001b[38;5;34m10\u001b[0m)                  │               \u001b[38;5;34m0\u001b[0m │\n",
              "├──────────────────────────────────────┼─────────────────────────────┼─────────────────┤\n",
              "│ dense (\u001b[38;5;33mDense\u001b[0m)                        │ (\u001b[38;5;45mNone\u001b[0m, \u001b[38;5;34m3\u001b[0m)                   │              \u001b[38;5;34m33\u001b[0m │\n",
              "└──────────────────────────────────────┴─────────────────────────────┴─────────────────┘\n"
            ],
            "text/html": [
              "<pre style=\"white-space:pre;overflow-x:auto;line-height:normal;font-family:Menlo,'DejaVu Sans Mono',consolas,'Courier New',monospace\">┏━━━━━━━━━━━━━━━━━━━━━━━━━━━━━━━━━━━━━━┳━━━━━━━━━━━━━━━━━━━━━━━━━━━━━┳━━━━━━━━━━━━━━━━━┓\n",
              "┃<span style=\"font-weight: bold\"> Layer (type)                         </span>┃<span style=\"font-weight: bold\"> Output Shape                </span>┃<span style=\"font-weight: bold\">         Param # </span>┃\n",
              "┡━━━━━━━━━━━━━━━━━━━━━━━━━━━━━━━━━━━━━━╇━━━━━━━━━━━━━━━━━━━━━━━━━━━━━╇━━━━━━━━━━━━━━━━━┩\n",
              "│ embedding_1 (<span style=\"color: #0087ff; text-decoration-color: #0087ff\">Embedding</span>)              │ (<span style=\"color: #00d7ff; text-decoration-color: #00d7ff\">None</span>, <span style=\"color: #00af00; text-decoration-color: #00af00\">25</span>, <span style=\"color: #00af00; text-decoration-color: #00af00\">10</span>)              │         <span style=\"color: #00af00; text-decoration-color: #00af00\">351,820</span> │\n",
              "├──────────────────────────────────────┼─────────────────────────────┼─────────────────┤\n",
              "│ lambda (<span style=\"color: #0087ff; text-decoration-color: #0087ff\">Lambda</span>)                      │ (<span style=\"color: #00d7ff; text-decoration-color: #00d7ff\">None</span>, <span style=\"color: #00af00; text-decoration-color: #00af00\">10</span>)                  │               <span style=\"color: #00af00; text-decoration-color: #00af00\">0</span> │\n",
              "├──────────────────────────────────────┼─────────────────────────────┼─────────────────┤\n",
              "│ dense (<span style=\"color: #0087ff; text-decoration-color: #0087ff\">Dense</span>)                        │ (<span style=\"color: #00d7ff; text-decoration-color: #00d7ff\">None</span>, <span style=\"color: #00af00; text-decoration-color: #00af00\">3</span>)                   │              <span style=\"color: #00af00; text-decoration-color: #00af00\">33</span> │\n",
              "└──────────────────────────────────────┴─────────────────────────────┴─────────────────┘\n",
              "</pre>\n"
            ]
          },
          "metadata": {}
        },
        {
          "output_type": "display_data",
          "data": {
            "text/plain": [
              "\u001b[1m Total params: \u001b[0m\u001b[38;5;34m1,055,561\u001b[0m (4.03 MB)\n"
            ],
            "text/html": [
              "<pre style=\"white-space:pre;overflow-x:auto;line-height:normal;font-family:Menlo,'DejaVu Sans Mono',consolas,'Courier New',monospace\"><span style=\"font-weight: bold\"> Total params: </span><span style=\"color: #00af00; text-decoration-color: #00af00\">1,055,561</span> (4.03 MB)\n",
              "</pre>\n"
            ]
          },
          "metadata": {}
        },
        {
          "output_type": "display_data",
          "data": {
            "text/plain": [
              "\u001b[1m Trainable params: \u001b[0m\u001b[38;5;34m351,853\u001b[0m (1.34 MB)\n"
            ],
            "text/html": [
              "<pre style=\"white-space:pre;overflow-x:auto;line-height:normal;font-family:Menlo,'DejaVu Sans Mono',consolas,'Courier New',monospace\"><span style=\"font-weight: bold\"> Trainable params: </span><span style=\"color: #00af00; text-decoration-color: #00af00\">351,853</span> (1.34 MB)\n",
              "</pre>\n"
            ]
          },
          "metadata": {}
        },
        {
          "output_type": "display_data",
          "data": {
            "text/plain": [
              "\u001b[1m Non-trainable params: \u001b[0m\u001b[38;5;34m0\u001b[0m (0.00 B)\n"
            ],
            "text/html": [
              "<pre style=\"white-space:pre;overflow-x:auto;line-height:normal;font-family:Menlo,'DejaVu Sans Mono',consolas,'Courier New',monospace\"><span style=\"font-weight: bold\"> Non-trainable params: </span><span style=\"color: #00af00; text-decoration-color: #00af00\">0</span> (0.00 B)\n",
              "</pre>\n"
            ]
          },
          "metadata": {}
        },
        {
          "output_type": "display_data",
          "data": {
            "text/plain": [
              "\u001b[1m Optimizer params: \u001b[0m\u001b[38;5;34m703,708\u001b[0m (2.68 MB)\n"
            ],
            "text/html": [
              "<pre style=\"white-space:pre;overflow-x:auto;line-height:normal;font-family:Menlo,'DejaVu Sans Mono',consolas,'Courier New',monospace\"><span style=\"font-weight: bold\"> Optimizer params: </span><span style=\"color: #00af00; text-decoration-color: #00af00\">703,708</span> (2.68 MB)\n",
              "</pre>\n"
            ]
          },
          "metadata": {}
        },
        {
          "output_type": "stream",
          "name": "stdout",
          "text": [
            "CPU times: user 56.7 s, sys: 3.55 s, total: 1min\n",
            "Wall time: 1min\n"
          ]
        },
        {
          "output_type": "display_data",
          "data": {
            "text/plain": [
              "<Figure size 640x480 with 1 Axes>"
            ],
            "image/png": "[encoded data removed]"
          },
          "metadata": {}
        },
        {
          "output_type": "display_data",
          "data": {
            "text/plain": [
              "<Figure size 640x480 with 1 Axes>"
            ],
            "image/png": "[encoded data removed]"
          },
          "metadata": {}
        }
      ],
      "source": [
        "%%time\n",
        "\n",
        "tf.random.set_seed(33)\n",
        "\n",
        "MODEL_DIR = os.path.join(LOGDIR, 'dnn')\n",
        "shutil.rmtree(MODEL_DIR, ignore_errors=True)\n",
        "\n",
        "BATCH_SIZE = 300\n",
        "EPOCHS = 100\n",
        "EMBED_DIM = 10\n",
        "PATIENCE = 0\n",
        "\n",
        "dnn_model = build_dnn_model(embed_dim=EMBED_DIM)\n",
        "\n",
        "dnn_history = dnn_model.fit(\n",
        "    X_train, Y_train,\n",
        "    epochs=EPOCHS,\n",
        "    batch_size=BATCH_SIZE,\n",
        "    validation_data=(X_valid, Y_valid),\n",
        "    callbacks=[callbacks.EarlyStopping(patience=PATIENCE),\n",
        "               callbacks.TensorBoard(MODEL_DIR)],\n",
        ")\n",
        "\n",
        "pd.DataFrame(dnn_history.history)[['loss', 'val_loss']].plot()\n",
        "pd.DataFrame(dnn_history.history)[['accuracy', 'val_accuracy']].plot()\n",
        "\n",
        "dnn_model.summary()"
      ]
    },
    {
      "cell_type": "markdown",
      "metadata": {
        "id": "RdRGKsx55vOh"
      },
      "source": [
        "### Transfer Learning with Pre-trained Embedding\n",
        "\n",
        "We can also use a word embedding from a pre-trained modle using a [Neural Probabilistic Language Model](http://www.jmlr.org/papers/volume3/bengio03a/bengio03a.pdf). TF-Hub has a 50-dimensional one called\n",
        "[nnlm-en-dim50-with-normalization](https://tfhub.dev/google/tf2-preview/nnlm-en-dim50/1), which also normalizes the vectors produced.\n",
        "\n",
        "Once loaded from its url, the TF-hub module can be used as a normal Keras layer in a sequential or functional model. Since we have enough data to fine-tune the parameters of the pre-trained embedding itself, we will set `trainable=True` in the `KerasLayer` that loads the pre-trained embedding:"
      ]
    },
    {
      "cell_type": "code",
      "execution_count": 33,
      "metadata": {
        "id": "lhYKUZtd5vOi"
      },
      "outputs": [],
      "source": [
        "NNLM = \"https://tfhub.dev/google/nnlm-en-dim50/2\"\n",
        "\n",
        "nnlm_module = KerasLayer(\n",
        "    handle=NNLM,\n",
        "    output_shape=[50],\n",
        "    input_shape=[],\n",
        "    dtype=tf.string,\n",
        "    trainable=True)"
      ]
    },
    {
      "cell_type": "markdown",
      "metadata": {
        "id": "SHvZVr_J5vOi"
      },
      "source": [
        "With this module, we do not need to pad our inputs. The NNLM module returns a 50-dimensional vector given a word or sentence."
      ]
    },
    {
      "cell_type": "code",
      "execution_count": 34,
      "metadata": {
        "id": "VV4y6lq_5vOi",
        "outputId": "8892ae03-a189-4368-fd48-2a6b73a69e2a",
        "colab": {
          "base_uri": "https://localhost:8080/"
        }
      },
      "outputs": [
        {
          "output_type": "execute_result",
          "data": {
            "text/plain": [
              "<tf.Tensor: shape=(2, 50), dtype=float32, numpy=\n",
              "array([[ 0.0958989 , -0.342834  , -0.0492865 , -0.09070477,  0.15877676,\n",
              "        -0.2123544 ,  0.28213888, -0.02812294, -0.07855891, -0.13102815,\n",
              "         0.11162009,  0.00899507,  0.01711924,  0.3225362 , -0.13289747,\n",
              "         0.11935385,  0.04386024,  0.06534779,  0.22004679, -0.13539287,\n",
              "        -0.0296053 , -0.06080014,  0.12862371,  0.23304915, -0.04424817,\n",
              "         0.07436226, -0.1898077 , -0.13270935,  0.21959057,  0.10597933,\n",
              "         0.03580458,  0.14275001, -0.0662442 , -0.3247055 ,  0.0461876 ,\n",
              "        -0.11603005,  0.06651007,  0.10887001, -0.05413236, -0.07126983,\n",
              "         0.02225055,  0.26454857, -0.04697315,  0.06729111, -0.14438024,\n",
              "         0.06355231, -0.05749882, -0.04587578,  0.23790349,  0.25837898],\n",
              "       [ 0.11347695, -0.04064287,  0.1053718 , -0.2368139 , -0.08755025,\n",
              "        -0.29770336, -0.00098698,  0.2312349 , -0.05596383,  0.04687293,\n",
              "         0.07230621, -0.10018747,  0.17597003, -0.04471372, -0.16409421,\n",
              "        -0.21718104, -0.13013352,  0.10073684,  0.04346658, -0.121227  ,\n",
              "        -0.05811132, -0.17935495,  0.08445173, -0.18978111,  0.14924097,\n",
              "         0.1283434 , -0.14006372,  0.10938524,  0.00990795, -0.31790745,\n",
              "        -0.04520534, -0.02819821,  0.13765122, -0.06532548, -0.18180048,\n",
              "         0.03769377, -0.12396756, -0.10564797,  0.01820223, -0.22254522,\n",
              "         0.06358314, -0.25590476,  0.25336912,  0.2768555 , -0.09150941,\n",
              "        -0.1493839 , -0.08984404,  0.13982305,  0.4764217 , -0.17479022]],\n",
              "      dtype=float32)>"
            ]
          },
          "metadata": {},
          "execution_count": 34
        }
      ],
      "source": [
        "nnlm_module(tf.constant([\"holy cash cow  batman - content is back\",\n",
        "                         \"close look at a flu outbreak upends some common wisdom\"]))"
      ]
    },
    {
      "cell_type": "markdown",
      "metadata": {
        "id": "yyUivQvu5vOi"
      },
      "source": [
        "With this in mind, we can simplify our data inputs since do not need to integerize or pad."
      ]
    },
    {
      "cell_type": "code",
      "execution_count": 35,
      "metadata": {
        "id": "RSvZw69Y5vOi"
      },
      "outputs": [],
      "source": [
        "X_train, Y_train = titles_train.values, encode_labels(sources_train)\n",
        "X_valid, Y_valid = titles_valid.values, encode_labels(sources_valid)"
      ]
    },
    {
      "cell_type": "code",
      "execution_count": 36,
      "metadata": {
        "id": "LqhweekZ5vOi",
        "outputId": "559d6b84-95fc-4f90-a732-cfc9755eb853",
        "colab": {
          "base_uri": "https://localhost:8080/"
        }
      },
      "outputs": [
        {
          "output_type": "execute_result",
          "data": {
            "text/plain": [
              "array(['holy cash cow  batman - content is back',\n",
              "       'show hn  a simple and configurable deployment tool for github projects',\n",
              "       'show hn  neural turing machine in pure numpy. implements all 5 tasks from paper'],\n",
              "      dtype=object)"
            ]
          },
          "metadata": {},
          "execution_count": 36
        }
      ],
      "source": [
        "X_train[:3]"
      ]
    },
    {
      "cell_type": "markdown",
      "metadata": {
        "id": "NSWOnF245vOi"
      },
      "source": [
        "#### Build DNN model using TF-Hub Embedding layer\n",
        "\n",
        "Next, we can add this TF-Hub module to our DNN model."
      ]
    },
    {
      "cell_type": "code",
      "execution_count": 40,
      "metadata": {
        "id": "Aup6AGpI5vOi"
      },
      "outputs": [],
      "source": [
        "def build_hub_model():\n",
        "    model = models.Sequential([\n",
        "        KerasLayer(handle=NNLM,\n",
        "                   output_shape=[50],\n",
        "                   input_shape=[],\n",
        "                   dtype=tf.string,\n",
        "                   trainable=True),\n",
        "        layers.Dense(N_CLASSES, activation='softmax')\n",
        "    ])\n",
        "\n",
        "    model.compile(\n",
        "        optimizer='adam',\n",
        "        loss='categorical_crossentropy',\n",
        "        metrics=['accuracy']\n",
        "    )\n",
        "    return model"
      ]
    },
    {
      "cell_type": "code",
      "execution_count": 41,
      "metadata": {
        "id": "tqDa_urE5vOi",
        "outputId": "15586cab-c34c-41de-9edb-d706add333f4",
        "colab": {
          "base_uri": "https://localhost:8080/",
          "height": 418
        }
      },
      "outputs": [
        {
          "output_type": "error",
          "ename": "ValueError",
          "evalue": "Only instances of `keras.Layer` can be added to a Sequential model. Received: <tensorflow_hub.keras_layer.KerasLayer object at 0x7ded48874880> (of type <class 'tensorflow_hub.keras_layer.KerasLayer'>)",
          "traceback": [
            "\u001b[0;31m---------------------------------------------------------------------------\u001b[0m",
            "\u001b[0;31mValueError\u001b[0m                                Traceback (most recent call last)",
            "\u001b[0;32m<timed exec>\u001b[0m in \u001b[0;36m<module>\u001b[0;34m\u001b[0m\n",
            "\u001b[0;32m<ipython-input-40-785565850d95>\u001b[0m in \u001b[0;36mbuild_hub_model\u001b[0;34m()\u001b[0m\n\u001b[1;32m      1\u001b[0m \u001b[0;32mdef\u001b[0m \u001b[0mbuild_hub_model\u001b[0m\u001b[0;34m(\u001b[0m\u001b[0;34m)\u001b[0m\u001b[0;34m:\u001b[0m\u001b[0;34m\u001b[0m\u001b[0;34m\u001b[0m\u001b[0m\n\u001b[0;32m----> 2\u001b[0;31m     model = models.Sequential([\n\u001b[0m\u001b[1;32m      3\u001b[0m         KerasLayer(handle=NNLM,\n\u001b[1;32m      4\u001b[0m                    \u001b[0moutput_shape\u001b[0m\u001b[0;34m=\u001b[0m\u001b[0;34m[\u001b[0m\u001b[0;36m50\u001b[0m\u001b[0;34m]\u001b[0m\u001b[0;34m,\u001b[0m\u001b[0;34m\u001b[0m\u001b[0;34m\u001b[0m\u001b[0m\n\u001b[1;32m      5\u001b[0m                    \u001b[0minput_shape\u001b[0m\u001b[0;34m=\u001b[0m\u001b[0;34m[\u001b[0m\u001b[0;34m]\u001b[0m\u001b[0;34m,\u001b[0m\u001b[0;34m\u001b[0m\u001b[0;34m\u001b[0m\u001b[0m\n",
            "\u001b[0;32m/usr/local/lib/python3.10/dist-packages/keras/src/models/sequential.py\u001b[0m in \u001b[0;36m__init__\u001b[0;34m(self, layers, trainable, name)\u001b[0m\n\u001b[1;32m     71\u001b[0m         \u001b[0;32mif\u001b[0m \u001b[0mlayers\u001b[0m\u001b[0;34m:\u001b[0m\u001b[0;34m\u001b[0m\u001b[0;34m\u001b[0m\u001b[0m\n\u001b[1;32m     72\u001b[0m             \u001b[0;32mfor\u001b[0m \u001b[0mlayer\u001b[0m \u001b[0;32min\u001b[0m \u001b[0mlayers\u001b[0m\u001b[0;34m:\u001b[0m\u001b[0;34m\u001b[0m\u001b[0;34m\u001b[0m\u001b[0m\n\u001b[0;32m---> 73\u001b[0;31m                 \u001b[0mself\u001b[0m\u001b[0;34m.\u001b[0m\u001b[0madd\u001b[0m\u001b[0;34m(\u001b[0m\u001b[0mlayer\u001b[0m\u001b[0;34m,\u001b[0m \u001b[0mrebuild\u001b[0m\u001b[0;34m=\u001b[0m\u001b[0;32mFalse\u001b[0m\u001b[0;34m)\u001b[0m\u001b[0;34m\u001b[0m\u001b[0;34m\u001b[0m\u001b[0m\n\u001b[0m\u001b[1;32m     74\u001b[0m             \u001b[0mself\u001b[0m\u001b[0;34m.\u001b[0m\u001b[0m_maybe_rebuild\u001b[0m\u001b[0;34m(\u001b[0m\u001b[0;34m)\u001b[0m\u001b[0;34m\u001b[0m\u001b[0;34m\u001b[0m\u001b[0m\n\u001b[1;32m     75\u001b[0m \u001b[0;34m\u001b[0m\u001b[0m\n",
            "\u001b[0;32m/usr/local/lib/python3.10/dist-packages/keras/src/models/sequential.py\u001b[0m in \u001b[0;36madd\u001b[0;34m(self, layer, rebuild)\u001b[0m\n\u001b[1;32m     93\u001b[0m                 \u001b[0mlayer\u001b[0m \u001b[0;34m=\u001b[0m \u001b[0morigin_layer\u001b[0m\u001b[0;34m\u001b[0m\u001b[0;34m\u001b[0m\u001b[0m\n\u001b[1;32m     94\u001b[0m         \u001b[0;32mif\u001b[0m \u001b[0;32mnot\u001b[0m \u001b[0misinstance\u001b[0m\u001b[0;34m(\u001b[0m\u001b[0mlayer\u001b[0m\u001b[0;34m,\u001b[0m \u001b[0mLayer\u001b[0m\u001b[0;34m)\u001b[0m\u001b[0;34m:\u001b[0m\u001b[0;34m\u001b[0m\u001b[0;34m\u001b[0m\u001b[0m\n\u001b[0;32m---> 95\u001b[0;31m             raise ValueError(\n\u001b[0m\u001b[1;32m     96\u001b[0m                 \u001b[0;34m\"Only instances of `keras.Layer` can be \"\u001b[0m\u001b[0;34m\u001b[0m\u001b[0;34m\u001b[0m\u001b[0m\n\u001b[1;32m     97\u001b[0m                 \u001b[0;34mf\"added to a Sequential model. Received: {layer} \"\u001b[0m\u001b[0;34m\u001b[0m\u001b[0;34m\u001b[0m\u001b[0m\n",
            "\u001b[0;31mValueError\u001b[0m: Only instances of `keras.Layer` can be added to a Sequential model. Received: <tensorflow_hub.keras_layer.KerasLayer object at 0x7ded48874880> (of type <class 'tensorflow_hub.keras_layer.KerasLayer'>)"
          ]
        }
      ],
      "source": [
        "%%time\n",
        "\n",
        "tf.random.set_seed(33)\n",
        "\n",
        "MODEL_DIR = os.path.join(LOGDIR, 'hub')\n",
        "shutil.rmtree(MODEL_DIR, ignore_errors=True)\n",
        "\n",
        "BATCH_SIZE = 300\n",
        "EPOCHS = 100\n",
        "EMBED_DIM = 10\n",
        "PATIENCE = 3\n",
        "\n",
        "hub_model = build_hub_model()\n",
        "\n",
        "hub_history = hub_model.fit(\n",
        "    X_train, Y_train,\n",
        "    epochs=EPOCHS,\n",
        "    batch_size=BATCH_SIZE,\n",
        "    validation_data=(X_valid, Y_valid),\n",
        "    callbacks=[callbacks.EarlyStopping(patience=PATIENCE),\n",
        "               callbacks.TensorBoard(MODEL_DIR)],\n",
        ")\n",
        "\n",
        "pd.DataFrame(hub_history.history)[['loss', 'val_loss']].plot()\n",
        "pd.DataFrame(hub_history.history)[['accuracy', 'val_accuracy']].plot()\n",
        "\n",
        "hub_model.summary()"
      ]
    },
    {
      "cell_type": "markdown",
      "metadata": {
        "id": "wuDCRRuw5vOi"
      },
      "source": [
        "Copyright 2020 Google Inc. Licensed under the Apache License, Version 2.0 (the \"License\"); you may not use this file except in compliance with the License. You may obtain a copy of the License at http://www.apache.org/licenses/LICENSE-2.0 Unless required by applicable law or agreed to in writing, software distributed under the License is distributed on an \"AS IS\" BASIS, WITHOUT WARRANTIES OR CONDITIONS OF ANY KIND, either express or implied. See the License for the specific language governing permissions and limitations under the License"
      ]
    }
  ],
  "metadata": {
    "kernelspec": {
      "display_name": "Python 3",
      "language": "python",
      "name": "python3"
    },
    "language_info": {
      "codemirror_mode": {
        "name": "ipython",
        "version": 3
      },
      "file_extension": ".py",
      "mimetype": "text/x-python",
      "name": "python",
      "nbconvert_exporter": "python",
      "pygments_lexer": "ipython3",
      "version": "3.7.4-final"
    },
    "colab": {
      "provenance": []
    }
  },
  "nbformat": 4,
  "nbformat_minor": 0
}