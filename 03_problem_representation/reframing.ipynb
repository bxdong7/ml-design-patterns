{
  "cells": [
    {
      "cell_type": "markdown",
      "metadata": {
        "id": "w4KppmrIEFBV"
      },
      "source": [
        "# Reframing Design Pattern\n",
        "\n",
        "The *Reframing design pattern* refers to changing the representation of the output of a machine learning problem. For example, we could take something that is intuitively a regression problem and instead pose it as a classification problem (and vice versa)."
      ]
    },
    {
      "cell_type": "markdown",
      "metadata": {
        "id": "iTKoB1iSEFBW"
      },
      "source": [
        "Let's look at the natality dataset. Notice that for a given set of inputs, the weight_pounds (the label) can take many different values."
      ]
    },
    {
      "cell_type": "code",
      "execution_count": 1,
      "metadata": {
        "id": "-5kgXzgmEFBW"
      },
      "outputs": [],
      "source": [
        "import numpy as np\n",
        "import seaborn as sns\n",
        "from google.cloud import bigquery\n",
        "\n",
        "import matplotlib as plt\n",
        "%matplotlib inline"
      ]
    },
    {
      "cell_type": "code",
      "source": [
        "%%sh\n",
        "wget -O gcp.json 'https://docs.google.com/uc?export=download&id=11IfhkCX1keJvsM10YGx9eepNIjB4Pi12&confirm=t'"
      ],
      "metadata": {
        "id": "5d4IJF7_EKiP",
        "outputId": "8b65739b-a072-4c89-dac7-889bf482976b",
        "colab": {
          "base_uri": "https://localhost:8080/"
        }
      },
      "execution_count": 2,
      "outputs": [
        {
          "output_type": "stream",
          "name": "stderr",
          "text": [
            "--2024-08-20 13:54:39--  https://docs.google.com/uc?export=download&id=11IfhkCX1keJvsM10YGx9eepNIjB4Pi12&confirm=t\n",
            "Resolving docs.google.com (docs.google.com)... 64.233.189.101, 64.233.189.138, 64.233.189.113, ...\n",
            "Connecting to docs.google.com (docs.google.com)|64.233.189.101|:443... connected.\n",
            "HTTP request sent, awaiting response... 303 See Other\n",
            "Location: https://drive.usercontent.google.com/download?id=11IfhkCX1keJvsM10YGx9eepNIjB4Pi12&export=download [following]\n",
            "--2024-08-20 13:54:40--  https://drive.usercontent.google.com/download?id=11IfhkCX1keJvsM10YGx9eepNIjB4Pi12&export=download\n",
            "Resolving drive.usercontent.google.com (drive.usercontent.google.com)... 142.251.8.132, 2404:6800:4008:c1b::84\n",
            "Connecting to drive.usercontent.google.com (drive.usercontent.google.com)|142.251.8.132|:443... connected.\n",
            "HTTP request sent, awaiting response... 200 OK\n",
            "Length: 2369 (2.3K) [application/octet-stream]\n",
            "Saving to: ‘gcp.json’\n",
            "\n",
            "     0K ..                                                    100% 24.6M=0s\n",
            "\n",
            "2024-08-20 13:54:42 (24.6 MB/s) - ‘gcp.json’ saved [2369/2369]\n",
            "\n"
          ]
        }
      ]
    },
    {
      "cell_type": "code",
      "execution_count": 3,
      "metadata": {
        "id": "NA0WvCKeEFBX"
      },
      "outputs": [],
      "source": [
        "credentials_path = \"gcp.json\"\n",
        "bq = bigquery.Client.from_service_account_json(credentials_path)"
      ]
    },
    {
      "cell_type": "code",
      "execution_count": 4,
      "metadata": {
        "id": "5JWFj4B_EFBX"
      },
      "outputs": [],
      "source": [
        "query = \"\"\"\n",
        "SELECT\n",
        "  weight_pounds,\n",
        "  is_male,\n",
        "  gestation_weeks,\n",
        "  mother_age,\n",
        "  plurality,\n",
        "  mother_race\n",
        "FROM\n",
        "  `bigquery-public-data.samples.natality`\n",
        "WHERE\n",
        "  weight_pounds IS NOT NULL\n",
        "  AND is_male = true\n",
        "  AND gestation_weeks = 38\n",
        "  AND mother_age = 28\n",
        "  AND mother_race = 1\n",
        "  AND plurality = 1\n",
        "  AND RAND() < 0.01\n",
        "\"\"\""
      ]
    },
    {
      "cell_type": "code",
      "execution_count": 5,
      "metadata": {
        "id": "jXLboTDxEFBX",
        "outputId": "12e1ab42-3e54-4d53-99b0-effdb0cec33c",
        "colab": {
          "base_uri": "https://localhost:8080/",
          "height": 206
        }
      },
      "outputs": [
        {
          "output_type": "execute_result",
          "data": {
            "text/plain": [
              "   weight_pounds  is_male  gestation_weeks  mother_age  plurality  mother_race\n",
              "0       7.813183     True               38          28          1            1\n",
              "1       5.875319     True               38          28          1            1\n",
              "2       8.062305     True               38          28          1            1\n",
              "3       6.000983     True               38          28          1            1\n",
              "4       6.186171     True               38          28          1            1"
            ],
            "text/html": [
              "\n",
              "  <div id=\"df-5aa511fd-fefb-416d-beba-c520a316c61e\" class=\"colab-df-container\">\n",
              "    <div>\n",
              "<style scoped>\n",
              "    .dataframe tbody tr th:only-of-type {\n",
              "        vertical-align: middle;\n",
              "    }\n",
              "\n",
              "    .dataframe tbody tr th {\n",
              "        vertical-align: top;\n",
              "    }\n",
              "\n",
              "    .dataframe thead th {\n",
              "        text-align: right;\n",
              "    }\n",
              "</style>\n",
              "<table border=\"1\" class=\"dataframe\">\n",
              "  <thead>\n",
              "    <tr style=\"text-align: right;\">\n",
              "      <th></th>\n",
              "      <th>weight_pounds</th>\n",
              "      <th>is_male</th>\n",
              "      <th>gestation_weeks</th>\n",
              "      <th>mother_age</th>\n",
              "      <th>plurality</th>\n",
              "      <th>mother_race</th>\n",
              "    </tr>\n",
              "  </thead>\n",
              "  <tbody>\n",
              "    <tr>\n",
              "      <th>0</th>\n",
              "      <td>7.813183</td>\n",
              "      <td>True</td>\n",
              "      <td>38</td>\n",
              "      <td>28</td>\n",
              "      <td>1</td>\n",
              "      <td>1</td>\n",
              "    </tr>\n",
              "    <tr>\n",
              "      <th>1</th>\n",
              "      <td>5.875319</td>\n",
              "      <td>True</td>\n",
              "      <td>38</td>\n",
              "      <td>28</td>\n",
              "      <td>1</td>\n",
              "      <td>1</td>\n",
              "    </tr>\n",
              "    <tr>\n",
              "      <th>2</th>\n",
              "      <td>8.062305</td>\n",
              "      <td>True</td>\n",
              "      <td>38</td>\n",
              "      <td>28</td>\n",
              "      <td>1</td>\n",
              "      <td>1</td>\n",
              "    </tr>\n",
              "    <tr>\n",
              "      <th>3</th>\n",
              "      <td>6.000983</td>\n",
              "      <td>True</td>\n",
              "      <td>38</td>\n",
              "      <td>28</td>\n",
              "      <td>1</td>\n",
              "      <td>1</td>\n",
              "    </tr>\n",
              "    <tr>\n",
              "      <th>4</th>\n",
              "      <td>6.186171</td>\n",
              "      <td>True</td>\n",
              "      <td>38</td>\n",
              "      <td>28</td>\n",
              "      <td>1</td>\n",
              "      <td>1</td>\n",
              "    </tr>\n",
              "  </tbody>\n",
              "</table>\n",
              "</div>\n",
              "    <div class=\"colab-df-buttons\">\n",
              "\n",
              "  <div class=\"colab-df-container\">\n",
              "    <button class=\"colab-df-convert\" onclick=\"convertToInteractive('df-5aa511fd-fefb-416d-beba-c520a316c61e')\"\n",
              "            title=\"Convert this dataframe to an interactive table.\"\n",
              "            style=\"display:none;\">\n",
              "\n",
              "  <svg xmlns=\"http://www.w3.org/2000/svg\" height=\"24px\" viewBox=\"0 -960 960 960\">\n",
              "    <path d=\"M120-120v-720h720v720H120Zm60-500h600v-160H180v160Zm220 220h160v-160H400v160Zm0 220h160v-160H400v160ZM180-400h160v-160H180v160Zm440 0h160v-160H620v160ZM180-180h160v-160H180v160Zm440 0h160v-160H620v160Z\"/>\n",
              "  </svg>\n",
              "    </button>\n",
              "\n",
              "  <style>\n",
              "    .colab-df-container {\n",
              "      display:flex;\n",
              "      gap: 12px;\n",
              "    }\n",
              "\n",
              "    .colab-df-convert {\n",
              "      background-color: #E8F0FE;\n",
              "      border: none;\n",
              "      border-radius: 50%;\n",
              "      cursor: pointer;\n",
              "      display: none;\n",
              "      fill: #1967D2;\n",
              "      height: 32px;\n",
              "      padding: 0 0 0 0;\n",
              "      width: 32px;\n",
              "    }\n",
              "\n",
              "    .colab-df-convert:hover {\n",
              "      background-color: #E2EBFA;\n",
              "      box-shadow: 0px 1px 2px rgba(60, 64, 67, 0.3), 0px 1px 3px 1px rgba(60, 64, 67, 0.15);\n",
              "      fill: #174EA6;\n",
              "    }\n",
              "\n",
              "    .colab-df-buttons div {\n",
              "      margin-bottom: 4px;\n",
              "    }\n",
              "\n",
              "    [theme=dark] .colab-df-convert {\n",
              "      background-color: #3B4455;\n",
              "      fill: #D2E3FC;\n",
              "    }\n",
              "\n",
              "    [theme=dark] .colab-df-convert:hover {\n",
              "      background-color: #434B5C;\n",
              "      box-shadow: 0px 1px 3px 1px rgba(0, 0, 0, 0.15);\n",
              "      filter: drop-shadow(0px 1px 2px rgba(0, 0, 0, 0.3));\n",
              "      fill: #FFFFFF;\n",
              "    }\n",
              "  </style>\n",
              "\n",
              "    <script>\n",
              "      const buttonEl =\n",
              "        document.querySelector('#df-5aa511fd-fefb-416d-beba-c520a316c61e button.colab-df-convert');\n",
              "      buttonEl.style.display =\n",
              "        google.colab.kernel.accessAllowed ? 'block' : 'none';\n",
              "\n",
              "      async function convertToInteractive(key) {\n",
              "        const element = document.querySelector('#df-5aa511fd-fefb-416d-beba-c520a316c61e');\n",
              "        const dataTable =\n",
              "          await google.colab.kernel.invokeFunction('convertToInteractive',\n",
              "                                                    [key], {});\n",
              "        if (!dataTable) return;\n",
              "\n",
              "        const docLinkHtml = 'Like what you see? Visit the ' +\n",
              "          '<a target=\"_blank\" href=https://colab.research.google.com/notebooks/data_table.ipynb>data table notebook</a>'\n",
              "          + ' to learn more about interactive tables.';\n",
              "        element.innerHTML = '';\n",
              "        dataTable['output_type'] = 'display_data';\n",
              "        await google.colab.output.renderOutput(dataTable, element);\n",
              "        const docLink = document.createElement('div');\n",
              "        docLink.innerHTML = docLinkHtml;\n",
              "        element.appendChild(docLink);\n",
              "      }\n",
              "    </script>\n",
              "  </div>\n",
              "\n",
              "\n",
              "<div id=\"df-d2c89550-c08b-427d-903d-52a571b6fd57\">\n",
              "  <button class=\"colab-df-quickchart\" onclick=\"quickchart('df-d2c89550-c08b-427d-903d-52a571b6fd57')\"\n",
              "            title=\"Suggest charts\"\n",
              "            style=\"display:none;\">\n",
              "\n",
              "<svg xmlns=\"http://www.w3.org/2000/svg\" height=\"24px\"viewBox=\"0 0 24 24\"\n",
              "     width=\"24px\">\n",
              "    <g>\n",
              "        <path d=\"M19 3H5c-1.1 0-2 .9-2 2v14c0 1.1.9 2 2 2h14c1.1 0 2-.9 2-2V5c0-1.1-.9-2-2-2zM9 17H7v-7h2v7zm4 0h-2V7h2v10zm4 0h-2v-4h2v4z\"/>\n",
              "    </g>\n",
              "</svg>\n",
              "  </button>\n",
              "\n",
              "<style>\n",
              "  .colab-df-quickchart {\n",
              "      --bg-color: #E8F0FE;\n",
              "      --fill-color: #1967D2;\n",
              "      --hover-bg-color: #E2EBFA;\n",
              "      --hover-fill-color: #174EA6;\n",
              "      --disabled-fill-color: #AAA;\n",
              "      --disabled-bg-color: #DDD;\n",
              "  }\n",
              "\n",
              "  [theme=dark] .colab-df-quickchart {\n",
              "      --bg-color: #3B4455;\n",
              "      --fill-color: #D2E3FC;\n",
              "      --hover-bg-color: #434B5C;\n",
              "      --hover-fill-color: #FFFFFF;\n",
              "      --disabled-bg-color: #3B4455;\n",
              "      --disabled-fill-color: #666;\n",
              "  }\n",
              "\n",
              "  .colab-df-quickchart {\n",
              "    background-color: var(--bg-color);\n",
              "    border: none;\n",
              "    border-radius: 50%;\n",
              "    cursor: pointer;\n",
              "    display: none;\n",
              "    fill: var(--fill-color);\n",
              "    height: 32px;\n",
              "    padding: 0;\n",
              "    width: 32px;\n",
              "  }\n",
              "\n",
              "  .colab-df-quickchart:hover {\n",
              "    background-color: var(--hover-bg-color);\n",
              "    box-shadow: 0 1px 2px rgba(60, 64, 67, 0.3), 0 1px 3px 1px rgba(60, 64, 67, 0.15);\n",
              "    fill: var(--button-hover-fill-color);\n",
              "  }\n",
              "\n",
              "  .colab-df-quickchart-complete:disabled,\n",
              "  .colab-df-quickchart-complete:disabled:hover {\n",
              "    background-color: var(--disabled-bg-color);\n",
              "    fill: var(--disabled-fill-color);\n",
              "    box-shadow: none;\n",
              "  }\n",
              "\n",
              "  .colab-df-spinner {\n",
              "    border: 2px solid var(--fill-color);\n",
              "    border-color: transparent;\n",
              "    border-bottom-color: var(--fill-color);\n",
              "    animation:\n",
              "      spin 1s steps(1) infinite;\n",
              "  }\n",
              "\n",
              "  @keyframes spin {\n",
              "    0% {\n",
              "      border-color: transparent;\n",
              "      border-bottom-color: var(--fill-color);\n",
              "      border-left-color: var(--fill-color);\n",
              "    }\n",
              "    20% {\n",
              "      border-color: transparent;\n",
              "      border-left-color: var(--fill-color);\n",
              "      border-top-color: var(--fill-color);\n",
              "    }\n",
              "    30% {\n",
              "      border-color: transparent;\n",
              "      border-left-color: var(--fill-color);\n",
              "      border-top-color: var(--fill-color);\n",
              "      border-right-color: var(--fill-color);\n",
              "    }\n",
              "    40% {\n",
              "      border-color: transparent;\n",
              "      border-right-color: var(--fill-color);\n",
              "      border-top-color: var(--fill-color);\n",
              "    }\n",
              "    60% {\n",
              "      border-color: transparent;\n",
              "      border-right-color: var(--fill-color);\n",
              "    }\n",
              "    80% {\n",
              "      border-color: transparent;\n",
              "      border-right-color: var(--fill-color);\n",
              "      border-bottom-color: var(--fill-color);\n",
              "    }\n",
              "    90% {\n",
              "      border-color: transparent;\n",
              "      border-bottom-color: var(--fill-color);\n",
              "    }\n",
              "  }\n",
              "</style>\n",
              "\n",
              "  <script>\n",
              "    async function quickchart(key) {\n",
              "      const quickchartButtonEl =\n",
              "        document.querySelector('#' + key + ' button');\n",
              "      quickchartButtonEl.disabled = true;  // To prevent multiple clicks.\n",
              "      quickchartButtonEl.classList.add('colab-df-spinner');\n",
              "      try {\n",
              "        const charts = await google.colab.kernel.invokeFunction(\n",
              "            'suggestCharts', [key], {});\n",
              "      } catch (error) {\n",
              "        console.error('Error during call to suggestCharts:', error);\n",
              "      }\n",
              "      quickchartButtonEl.classList.remove('colab-df-spinner');\n",
              "      quickchartButtonEl.classList.add('colab-df-quickchart-complete');\n",
              "    }\n",
              "    (() => {\n",
              "      let quickchartButtonEl =\n",
              "        document.querySelector('#df-d2c89550-c08b-427d-903d-52a571b6fd57 button');\n",
              "      quickchartButtonEl.style.display =\n",
              "        google.colab.kernel.accessAllowed ? 'block' : 'none';\n",
              "    })();\n",
              "  </script>\n",
              "</div>\n",
              "\n",
              "    </div>\n",
              "  </div>\n"
            ],
            "application/vnd.google.colaboratory.intrinsic+json": {
              "type": "dataframe",
              "variable_name": "df",
              "summary": "{\n  \"name\": \"df\",\n  \"rows\": 3913,\n  \"fields\": [\n    {\n      \"column\": \"weight_pounds\",\n      \"properties\": {\n        \"dtype\": \"number\",\n        \"std\": 0.988230619391976,\n        \"min\": 1.35363828868,\n        \"max\": 11.5301763026,\n        \"num_unique_values\": 600,\n        \"samples\": [\n          9.4578310398,\n          7.2620269102799995,\n          10.11039933532\n        ],\n        \"semantic_type\": \"\",\n        \"description\": \"\"\n      }\n    },\n    {\n      \"column\": \"is_male\",\n      \"properties\": {\n        \"dtype\": \"boolean\",\n        \"num_unique_values\": 1,\n        \"samples\": [\n          true\n        ],\n        \"semantic_type\": \"\",\n        \"description\": \"\"\n      }\n    },\n    {\n      \"column\": \"gestation_weeks\",\n      \"properties\": {\n        \"dtype\": \"Int64\",\n        \"num_unique_values\": 1,\n        \"samples\": [\n          38\n        ],\n        \"semantic_type\": \"\",\n        \"description\": \"\"\n      }\n    },\n    {\n      \"column\": \"mother_age\",\n      \"properties\": {\n        \"dtype\": \"Int64\",\n        \"num_unique_values\": 1,\n        \"samples\": [\n          28\n        ],\n        \"semantic_type\": \"\",\n        \"description\": \"\"\n      }\n    },\n    {\n      \"column\": \"plurality\",\n      \"properties\": {\n        \"dtype\": \"Int64\",\n        \"num_unique_values\": 1,\n        \"samples\": [\n          1\n        ],\n        \"semantic_type\": \"\",\n        \"description\": \"\"\n      }\n    },\n    {\n      \"column\": \"mother_race\",\n      \"properties\": {\n        \"dtype\": \"Int64\",\n        \"num_unique_values\": 1,\n        \"samples\": [\n          1\n        ],\n        \"semantic_type\": \"\",\n        \"description\": \"\"\n      }\n    }\n  ]\n}"
            }
          },
          "metadata": {},
          "execution_count": 5
        }
      ],
      "source": [
        "df = bq.query(query).to_dataframe()\n",
        "df.head()"
      ]
    },
    {
      "cell_type": "code",
      "execution_count": 6,
      "metadata": {
        "id": "cwqicpdTEFBX",
        "outputId": "113f5aa2-bf98-4503-a301-806425d0c2b5",
        "colab": {
          "base_uri": "https://localhost:8080/",
          "height": 668
        }
      },
      "outputs": [
        {
          "output_type": "stream",
          "name": "stderr",
          "text": [
            "<ipython-input-6-0353628a2dac>:1: UserWarning: \n",
            "\n",
            "`distplot` is a deprecated function and will be removed in seaborn v0.14.0.\n",
            "\n",
            "Please adapt your code to use either `displot` (a figure-level function with\n",
            "similar flexibility) or `histplot` (an axes-level function for histograms).\n",
            "\n",
            "For a guide to updating your code to use the new functions, please see\n",
            "https://gist.github.com/mwaskom/de44147ed2974457ad6372750bbe5751\n",
            "\n",
            "  fig = sns.distplot(df[[\"weight_pounds\"]])\n"
          ]
        },
        {
          "output_type": "display_data",
          "data": {
            "text/plain": [
              "<Figure size 640x480 with 1 Axes>"
            ],
            "image/png": "[encoded data removed]"
          },
          "metadata": {}
        }
      ],
      "source": [
        "fig = sns.distplot(df[[\"weight_pounds\"]])\n",
        "fig.set_title(\"Distribution of baby weight\")\n",
        "fig.set_xlabel(\"weight_pounds\")\n",
        "fig.figure.savefig(\"weight_distrib.png\")"
      ]
    },
    {
      "cell_type": "code",
      "execution_count": 7,
      "metadata": {
        "id": "khndQXQ0EFBX",
        "outputId": "7d92092f-240d-4af1-e1de-239c79f8daa2",
        "colab": {
          "base_uri": "https://localhost:8080/"
        }
      },
      "outputs": [
        {
          "output_type": "execute_result",
          "data": {
            "text/plain": [
              "7.502700372700971"
            ]
          },
          "metadata": {},
          "execution_count": 7
        }
      ],
      "source": [
        "#average weight_pounds for this cross section\n",
        "np.mean(df.weight_pounds)"
      ]
    },
    {
      "cell_type": "code",
      "execution_count": 8,
      "metadata": {
        "id": "RB3ODZUNEFBX",
        "outputId": "4fa7ff7e-b37f-4014-9b1c-59bf833029c9",
        "colab": {
          "base_uri": "https://localhost:8080/"
        }
      },
      "outputs": [
        {
          "output_type": "execute_result",
          "data": {
            "text/plain": [
              "0.9881043360077287"
            ]
          },
          "metadata": {},
          "execution_count": 8
        }
      ],
      "source": [
        "np.std(df.weight_pounds)"
      ]
    },
    {
      "cell_type": "code",
      "execution_count": 9,
      "metadata": {
        "id": "RZNkkE2PEFBY",
        "outputId": "0d4d935c-c074-4f82-96cf-dd14ed0ef184",
        "colab": {
          "base_uri": "https://localhost:8080/"
        }
      },
      "outputs": [
        {
          "output_type": "stream",
          "name": "stdout",
          "text": [
            "weeks=36 age=28 mean=6.831696375755669 stddev=1.1652211969953363\n"
          ]
        }
      ],
      "source": [
        "weeks = 36\n",
        "age = 28\n",
        "query = \"\"\"\n",
        "SELECT\n",
        "  weight_pounds,\n",
        "  is_male,\n",
        "  gestation_weeks,\n",
        "  mother_age,\n",
        "  plurality,\n",
        "  mother_race\n",
        "FROM\n",
        "  `bigquery-public-data.samples.natality`\n",
        "WHERE\n",
        "  weight_pounds IS NOT NULL\n",
        "  AND is_male = true\n",
        "  AND gestation_weeks = {}\n",
        "  AND mother_age = {}\n",
        "  AND mother_race = 1\n",
        "  AND plurality = 1\n",
        "  AND RAND() < 0.01\n",
        "\"\"\".format(weeks, age)\n",
        "df = bq.query(query).to_dataframe()\n",
        "print('weeks={} age={} mean={} stddev={}'.format(weeks, age, np.mean(df.weight_pounds), np.std(df.weight_pounds)))"
      ]
    },
    {
      "cell_type": "markdown",
      "metadata": {
        "id": "7pzcsH7xEFBY"
      },
      "source": [
        "## Comparing categorical label and regression\n",
        "\n",
        "Since baby weight is a positive real value, this is intuitively a regression problem. However, we can train the model as a multi-class classification by bucketizing the output label. At inference time, the model then predicts a collection of probabilities corresponding to these potential outputs.\n",
        "\n",
        "Let's do both and see how they compare."
      ]
    },
    {
      "cell_type": "code",
      "execution_count": 10,
      "metadata": {
        "id": "KLYVZ_KoEFBY"
      },
      "outputs": [],
      "source": [
        "import os\n",
        "\n",
        "import numpy as np\n",
        "import pandas as pd\n",
        "import tensorflow as tf\n",
        "\n",
        "import matplotlib.pyplot as plt\n",
        "from tensorflow.keras.utils import to_categorical\n",
        "from tensorflow import keras\n",
        "from tensorflow import feature_column as fc\n",
        "from tensorflow.keras import layers, models, Model\n",
        "%matplotlib inline"
      ]
    },
    {
      "cell_type": "code",
      "execution_count": 14,
      "metadata": {
        "id": "7J346j5_EFBY",
        "outputId": "f111e54e-dc76-42d3-cc1b-a59ac6edc34c",
        "colab": {
          "base_uri": "https://localhost:8080/",
          "height": 206
        }
      },
      "outputs": [
        {
          "output_type": "execute_result",
          "data": {
            "text/plain": [
              "   weight_pounds  is_male  mother_age  plurality  gestation_weeks  mother_race\n",
              "0       6.624891    False          11  Single(1)               43          1.0\n",
              "1       7.528786     True          12  Single(1)               40          2.0\n",
              "2       5.048586     True          12  Single(1)               36          NaN\n",
              "3       8.249698     True          12  Single(1)               40          1.0\n",
              "4       7.054792     True          12  Single(1)               40          1.0"
            ],
            "text/html": [
              "\n",
              "  <div id=\"df-739f5a64-5b60-449b-9933-3f25db76f41b\" class=\"colab-df-container\">\n",
              "    <div>\n",
              "<style scoped>\n",
              "    .dataframe tbody tr th:only-of-type {\n",
              "        vertical-align: middle;\n",
              "    }\n",
              "\n",
              "    .dataframe tbody tr th {\n",
              "        vertical-align: top;\n",
              "    }\n",
              "\n",
              "    .dataframe thead th {\n",
              "        text-align: right;\n",
              "    }\n",
              "</style>\n",
              "<table border=\"1\" class=\"dataframe\">\n",
              "  <thead>\n",
              "    <tr style=\"text-align: right;\">\n",
              "      <th></th>\n",
              "      <th>weight_pounds</th>\n",
              "      <th>is_male</th>\n",
              "      <th>mother_age</th>\n",
              "      <th>plurality</th>\n",
              "      <th>gestation_weeks</th>\n",
              "      <th>mother_race</th>\n",
              "    </tr>\n",
              "  </thead>\n",
              "  <tbody>\n",
              "    <tr>\n",
              "      <th>0</th>\n",
              "      <td>6.624891</td>\n",
              "      <td>False</td>\n",
              "      <td>11</td>\n",
              "      <td>Single(1)</td>\n",
              "      <td>43</td>\n",
              "      <td>1.0</td>\n",
              "    </tr>\n",
              "    <tr>\n",
              "      <th>1</th>\n",
              "      <td>7.528786</td>\n",
              "      <td>True</td>\n",
              "      <td>12</td>\n",
              "      <td>Single(1)</td>\n",
              "      <td>40</td>\n",
              "      <td>2.0</td>\n",
              "    </tr>\n",
              "    <tr>\n",
              "      <th>2</th>\n",
              "      <td>5.048586</td>\n",
              "      <td>True</td>\n",
              "      <td>12</td>\n",
              "      <td>Single(1)</td>\n",
              "      <td>36</td>\n",
              "      <td>NaN</td>\n",
              "    </tr>\n",
              "    <tr>\n",
              "      <th>3</th>\n",
              "      <td>8.249698</td>\n",
              "      <td>True</td>\n",
              "      <td>12</td>\n",
              "      <td>Single(1)</td>\n",
              "      <td>40</td>\n",
              "      <td>1.0</td>\n",
              "    </tr>\n",
              "    <tr>\n",
              "      <th>4</th>\n",
              "      <td>7.054792</td>\n",
              "      <td>True</td>\n",
              "      <td>12</td>\n",
              "      <td>Single(1)</td>\n",
              "      <td>40</td>\n",
              "      <td>1.0</td>\n",
              "    </tr>\n",
              "  </tbody>\n",
              "</table>\n",
              "</div>\n",
              "    <div class=\"colab-df-buttons\">\n",
              "\n",
              "  <div class=\"colab-df-container\">\n",
              "    <button class=\"colab-df-convert\" onclick=\"convertToInteractive('df-739f5a64-5b60-449b-9933-3f25db76f41b')\"\n",
              "            title=\"Convert this dataframe to an interactive table.\"\n",
              "            style=\"display:none;\">\n",
              "\n",
              "  <svg xmlns=\"http://www.w3.org/2000/svg\" height=\"24px\" viewBox=\"0 -960 960 960\">\n",
              "    <path d=\"M120-120v-720h720v720H120Zm60-500h600v-160H180v160Zm220 220h160v-160H400v160Zm0 220h160v-160H400v160ZM180-400h160v-160H180v160Zm440 0h160v-160H620v160ZM180-180h160v-160H180v160Zm440 0h160v-160H620v160Z\"/>\n",
              "  </svg>\n",
              "    </button>\n",
              "\n",
              "  <style>\n",
              "    .colab-df-container {\n",
              "      display:flex;\n",
              "      gap: 12px;\n",
              "    }\n",
              "\n",
              "    .colab-df-convert {\n",
              "      background-color: #E8F0FE;\n",
              "      border: none;\n",
              "      border-radius: 50%;\n",
              "      cursor: pointer;\n",
              "      display: none;\n",
              "      fill: #1967D2;\n",
              "      height: 32px;\n",
              "      padding: 0 0 0 0;\n",
              "      width: 32px;\n",
              "    }\n",
              "\n",
              "    .colab-df-convert:hover {\n",
              "      background-color: #E2EBFA;\n",
              "      box-shadow: 0px 1px 2px rgba(60, 64, 67, 0.3), 0px 1px 3px 1px rgba(60, 64, 67, 0.15);\n",
              "      fill: #174EA6;\n",
              "    }\n",
              "\n",
              "    .colab-df-buttons div {\n",
              "      margin-bottom: 4px;\n",
              "    }\n",
              "\n",
              "    [theme=dark] .colab-df-convert {\n",
              "      background-color: #3B4455;\n",
              "      fill: #D2E3FC;\n",
              "    }\n",
              "\n",
              "    [theme=dark] .colab-df-convert:hover {\n",
              "      background-color: #434B5C;\n",
              "      box-shadow: 0px 1px 3px 1px rgba(0, 0, 0, 0.15);\n",
              "      filter: drop-shadow(0px 1px 2px rgba(0, 0, 0, 0.3));\n",
              "      fill: #FFFFFF;\n",
              "    }\n",
              "  </style>\n",
              "\n",
              "    <script>\n",
              "      const buttonEl =\n",
              "        document.querySelector('#df-739f5a64-5b60-449b-9933-3f25db76f41b button.colab-df-convert');\n",
              "      buttonEl.style.display =\n",
              "        google.colab.kernel.accessAllowed ? 'block' : 'none';\n",
              "\n",
              "      async function convertToInteractive(key) {\n",
              "        const element = document.querySelector('#df-739f5a64-5b60-449b-9933-3f25db76f41b');\n",
              "        const dataTable =\n",
              "          await google.colab.kernel.invokeFunction('convertToInteractive',\n",
              "                                                    [key], {});\n",
              "        if (!dataTable) return;\n",
              "\n",
              "        const docLinkHtml = 'Like what you see? Visit the ' +\n",
              "          '<a target=\"_blank\" href=https://colab.research.google.com/notebooks/data_table.ipynb>data table notebook</a>'\n",
              "          + ' to learn more about interactive tables.';\n",
              "        element.innerHTML = '';\n",
              "        dataTable['output_type'] = 'display_data';\n",
              "        await google.colab.output.renderOutput(dataTable, element);\n",
              "        const docLink = document.createElement('div');\n",
              "        docLink.innerHTML = docLinkHtml;\n",
              "        element.appendChild(docLink);\n",
              "      }\n",
              "    </script>\n",
              "  </div>\n",
              "\n",
              "\n",
              "<div id=\"df-325740f4-ee5a-46ef-a94f-958e13d3d009\">\n",
              "  <button class=\"colab-df-quickchart\" onclick=\"quickchart('df-325740f4-ee5a-46ef-a94f-958e13d3d009')\"\n",
              "            title=\"Suggest charts\"\n",
              "            style=\"display:none;\">\n",
              "\n",
              "<svg xmlns=\"http://www.w3.org/2000/svg\" height=\"24px\"viewBox=\"0 0 24 24\"\n",
              "     width=\"24px\">\n",
              "    <g>\n",
              "        <path d=\"M19 3H5c-1.1 0-2 .9-2 2v14c0 1.1.9 2 2 2h14c1.1 0 2-.9 2-2V5c0-1.1-.9-2-2-2zM9 17H7v-7h2v7zm4 0h-2V7h2v10zm4 0h-2v-4h2v4z\"/>\n",
              "    </g>\n",
              "</svg>\n",
              "  </button>\n",
              "\n",
              "<style>\n",
              "  .colab-df-quickchart {\n",
              "      --bg-color: #E8F0FE;\n",
              "      --fill-color: #1967D2;\n",
              "      --hover-bg-color: #E2EBFA;\n",
              "      --hover-fill-color: #174EA6;\n",
              "      --disabled-fill-color: #AAA;\n",
              "      --disabled-bg-color: #DDD;\n",
              "  }\n",
              "\n",
              "  [theme=dark] .colab-df-quickchart {\n",
              "      --bg-color: #3B4455;\n",
              "      --fill-color: #D2E3FC;\n",
              "      --hover-bg-color: #434B5C;\n",
              "      --hover-fill-color: #FFFFFF;\n",
              "      --disabled-bg-color: #3B4455;\n",
              "      --disabled-fill-color: #666;\n",
              "  }\n",
              "\n",
              "  .colab-df-quickchart {\n",
              "    background-color: var(--bg-color);\n",
              "    border: none;\n",
              "    border-radius: 50%;\n",
              "    cursor: pointer;\n",
              "    display: none;\n",
              "    fill: var(--fill-color);\n",
              "    height: 32px;\n",
              "    padding: 0;\n",
              "    width: 32px;\n",
              "  }\n",
              "\n",
              "  .colab-df-quickchart:hover {\n",
              "    background-color: var(--hover-bg-color);\n",
              "    box-shadow: 0 1px 2px rgba(60, 64, 67, 0.3), 0 1px 3px 1px rgba(60, 64, 67, 0.15);\n",
              "    fill: var(--button-hover-fill-color);\n",
              "  }\n",
              "\n",
              "  .colab-df-quickchart-complete:disabled,\n",
              "  .colab-df-quickchart-complete:disabled:hover {\n",
              "    background-color: var(--disabled-bg-color);\n",
              "    fill: var(--disabled-fill-color);\n",
              "    box-shadow: none;\n",
              "  }\n",
              "\n",
              "  .colab-df-spinner {\n",
              "    border: 2px solid var(--fill-color);\n",
              "    border-color: transparent;\n",
              "    border-bottom-color: var(--fill-color);\n",
              "    animation:\n",
              "      spin 1s steps(1) infinite;\n",
              "  }\n",
              "\n",
              "  @keyframes spin {\n",
              "    0% {\n",
              "      border-color: transparent;\n",
              "      border-bottom-color: var(--fill-color);\n",
              "      border-left-color: var(--fill-color);\n",
              "    }\n",
              "    20% {\n",
              "      border-color: transparent;\n",
              "      border-left-color: var(--fill-color);\n",
              "      border-top-color: var(--fill-color);\n",
              "    }\n",
              "    30% {\n",
              "      border-color: transparent;\n",
              "      border-left-color: var(--fill-color);\n",
              "      border-top-color: var(--fill-color);\n",
              "      border-right-color: var(--fill-color);\n",
              "    }\n",
              "    40% {\n",
              "      border-color: transparent;\n",
              "      border-right-color: var(--fill-color);\n",
              "      border-top-color: var(--fill-color);\n",
              "    }\n",
              "    60% {\n",
              "      border-color: transparent;\n",
              "      border-right-color: var(--fill-color);\n",
              "    }\n",
              "    80% {\n",
              "      border-color: transparent;\n",
              "      border-right-color: var(--fill-color);\n",
              "      border-bottom-color: var(--fill-color);\n",
              "    }\n",
              "    90% {\n",
              "      border-color: transparent;\n",
              "      border-bottom-color: var(--fill-color);\n",
              "    }\n",
              "  }\n",
              "</style>\n",
              "\n",
              "  <script>\n",
              "    async function quickchart(key) {\n",
              "      const quickchartButtonEl =\n",
              "        document.querySelector('#' + key + ' button');\n",
              "      quickchartButtonEl.disabled = true;  // To prevent multiple clicks.\n",
              "      quickchartButtonEl.classList.add('colab-df-spinner');\n",
              "      try {\n",
              "        const charts = await google.colab.kernel.invokeFunction(\n",
              "            'suggestCharts', [key], {});\n",
              "      } catch (error) {\n",
              "        console.error('Error during call to suggestCharts:', error);\n",
              "      }\n",
              "      quickchartButtonEl.classList.remove('colab-df-spinner');\n",
              "      quickchartButtonEl.classList.add('colab-df-quickchart-complete');\n",
              "    }\n",
              "    (() => {\n",
              "      let quickchartButtonEl =\n",
              "        document.querySelector('#df-325740f4-ee5a-46ef-a94f-958e13d3d009 button');\n",
              "      quickchartButtonEl.style.display =\n",
              "        google.colab.kernel.accessAllowed ? 'block' : 'none';\n",
              "    })();\n",
              "  </script>\n",
              "</div>\n",
              "\n",
              "    </div>\n",
              "  </div>\n"
            ],
            "application/vnd.google.colaboratory.intrinsic+json": {
              "type": "dataframe",
              "variable_name": "df",
              "summary": "{\n  \"name\": \"df\",\n  \"rows\": 65137,\n  \"fields\": [\n    {\n      \"column\": \"weight_pounds\",\n      \"properties\": {\n        \"dtype\": \"number\",\n        \"std\": 1.313781511097867,\n        \"min\": 0.50044933474,\n        \"max\": 13.999353637,\n        \"num_unique_values\": 2996,\n        \"samples\": [\n          6.907082668460001,\n          8.7633749145,\n          4.7950541985\n        ],\n        \"semantic_type\": \"\",\n        \"description\": \"\"\n      }\n    },\n    {\n      \"column\": \"is_male\",\n      \"properties\": {\n        \"dtype\": \"boolean\",\n        \"num_unique_values\": 2,\n        \"samples\": [\n          true,\n          false\n        ],\n        \"semantic_type\": \"\",\n        \"description\": \"\"\n      }\n    },\n    {\n      \"column\": \"mother_age\",\n      \"properties\": {\n        \"dtype\": \"number\",\n        \"std\": 6,\n        \"min\": 11,\n        \"max\": 52,\n        \"num_unique_values\": 41,\n        \"samples\": [\n          35,\n          24\n        ],\n        \"semantic_type\": \"\",\n        \"description\": \"\"\n      }\n    },\n    {\n      \"column\": \"plurality\",\n      \"properties\": {\n        \"dtype\": \"category\",\n        \"num_unique_values\": 5,\n        \"samples\": [\n          \"Twins(2)\",\n          \"Quintuplets(5)\"\n        ],\n        \"semantic_type\": \"\",\n        \"description\": \"\"\n      }\n    },\n    {\n      \"column\": \"gestation_weeks\",\n      \"properties\": {\n        \"dtype\": \"number\",\n        \"std\": 2,\n        \"min\": 18,\n        \"max\": 47,\n        \"num_unique_values\": 30,\n        \"samples\": [\n          23,\n          28\n        ],\n        \"semantic_type\": \"\",\n        \"description\": \"\"\n      }\n    },\n    {\n      \"column\": \"mother_race\",\n      \"properties\": {\n        \"dtype\": \"number\",\n        \"std\": 9.148731534968027,\n        \"min\": 1.0,\n        \"max\": 78.0,\n        \"num_unique_values\": 15,\n        \"samples\": [\n          28.0,\n          58.0\n        ],\n        \"semantic_type\": \"\",\n        \"description\": \"\"\n      }\n    }\n  ]\n}"
            }
          },
          "metadata": {},
          "execution_count": 14
        }
      ],
      "source": [
        "df = pd.read_csv(\"https://raw.githubusercontent.com/bxdong7/ml-design-patterns/master/03_problem_representation/data/babyweight_eval.csv\")\n",
        "df.head()"
      ]
    },
    {
      "cell_type": "markdown",
      "source": [],
      "metadata": {
        "id": "6chi6XZuFIa8"
      }
    },
    {
      "cell_type": "markdown",
      "metadata": {
        "id": "51NXN9gQEFBY"
      },
      "source": [
        "We'll use the same features for both models. But we need to create a categorical weight label for the classification model."
      ]
    },
    {
      "cell_type": "code",
      "execution_count": 16,
      "metadata": {
        "id": "AfJA8T38EFBY"
      },
      "outputs": [],
      "source": [
        "# prepare inputs\n",
        "df.is_male = df.is_male.astype(str)\n",
        "\n",
        "df.mother_race.fillna(0, inplace = True)\n",
        "df.mother_race = df.mother_race.astype(str)\n",
        "\n",
        "# create categorical label\n",
        "def categorical_weight(weight_pounds):\n",
        "    if weight_pounds < 3.31:\n",
        "        return 0\n",
        "    elif weight_pounds >= 3.31 and weight_pounds < 5.5:\n",
        "        return 1\n",
        "    elif weight_pounds >= 5.5 and weight_pounds < 8.8:\n",
        "        return 2\n",
        "    else:\n",
        "        return 3\n",
        "\n",
        "df[\"weight_category\"] = df.weight_pounds.apply(lambda x: categorical_weight(x))"
      ]
    },
    {
      "cell_type": "code",
      "execution_count": null,
      "metadata": {
        "id": "OgIDjXEnEFBY",
        "outputId": "e558a07b-6f7c-467a-deb6-bfa7bb67e429"
      },
      "outputs": [
        {
          "data": {
            "text/html": [
              "<div>\n",
              "<style scoped>\n",
              "    .dataframe tbody tr th:only-of-type {\n",
              "        vertical-align: middle;\n",
              "    }\n",
              "\n",
              "    .dataframe tbody tr th {\n",
              "        vertical-align: top;\n",
              "    }\n",
              "\n",
              "    .dataframe thead th {\n",
              "        text-align: right;\n",
              "    }\n",
              "</style>\n",
              "<table border=\"1\" class=\"dataframe\">\n",
              "  <thead>\n",
              "    <tr style=\"text-align: right;\">\n",
              "      <th></th>\n",
              "      <th>weight_pounds</th>\n",
              "      <th>is_male</th>\n",
              "      <th>mother_age</th>\n",
              "      <th>plurality</th>\n",
              "      <th>gestation_weeks</th>\n",
              "      <th>mother_race</th>\n",
              "      <th>weight_category</th>\n",
              "    </tr>\n",
              "  </thead>\n",
              "  <tbody>\n",
              "    <tr>\n",
              "      <th>0</th>\n",
              "      <td>7.749249</td>\n",
              "      <td>False</td>\n",
              "      <td>12</td>\n",
              "      <td>Single(1)</td>\n",
              "      <td>40</td>\n",
              "      <td>1.0</td>\n",
              "      <td>2</td>\n",
              "    </tr>\n",
              "    <tr>\n",
              "      <th>1</th>\n",
              "      <td>7.561856</td>\n",
              "      <td>True</td>\n",
              "      <td>12</td>\n",
              "      <td>Single(1)</td>\n",
              "      <td>40</td>\n",
              "      <td>2.0</td>\n",
              "      <td>2</td>\n",
              "    </tr>\n",
              "    <tr>\n",
              "      <th>2</th>\n",
              "      <td>7.187070</td>\n",
              "      <td>False</td>\n",
              "      <td>12</td>\n",
              "      <td>Single(1)</td>\n",
              "      <td>34</td>\n",
              "      <td>3.0</td>\n",
              "      <td>2</td>\n",
              "    </tr>\n",
              "    <tr>\n",
              "      <th>3</th>\n",
              "      <td>6.375769</td>\n",
              "      <td>True</td>\n",
              "      <td>12</td>\n",
              "      <td>Single(1)</td>\n",
              "      <td>36</td>\n",
              "      <td>2.0</td>\n",
              "      <td>2</td>\n",
              "    </tr>\n",
              "    <tr>\n",
              "      <th>4</th>\n",
              "      <td>7.936641</td>\n",
              "      <td>False</td>\n",
              "      <td>12</td>\n",
              "      <td>Single(1)</td>\n",
              "      <td>35</td>\n",
              "      <td>0.0</td>\n",
              "      <td>2</td>\n",
              "    </tr>\n",
              "  </tbody>\n",
              "</table>\n",
              "</div>"
            ],
            "text/plain": [
              "   weight_pounds is_male  mother_age  plurality  gestation_weeks mother_race  \\\n",
              "0       7.749249   False          12  Single(1)               40         1.0   \n",
              "1       7.561856    True          12  Single(1)               40         2.0   \n",
              "2       7.187070   False          12  Single(1)               34         3.0   \n",
              "3       6.375769    True          12  Single(1)               36         2.0   \n",
              "4       7.936641   False          12  Single(1)               35         0.0   \n",
              "\n",
              "   weight_category  \n",
              "0                2  \n",
              "1                2  \n",
              "2                2  \n",
              "3                2  \n",
              "4                2  "
            ]
          },
          "execution_count": 27,
          "metadata": {},
          "output_type": "execute_result"
        }
      ],
      "source": [
        "df.head()"
      ]
    },
    {
      "cell_type": "code",
      "execution_count": 17,
      "metadata": {
        "id": "Kz6rfxHgEFBY"
      },
      "outputs": [],
      "source": [
        "def encode_labels(classes):\n",
        "    one_hots = to_categorical(classes)\n",
        "    return one_hots\n",
        "\n",
        "FEATURES = ['is_male', 'mother_age', 'plurality', 'gestation_weeks', 'mother_race']\n",
        "\n",
        "LABEL_CLS = ['weight_category']\n",
        "LABEL_REG = ['weight_pounds']\n",
        "\n",
        "N_TRAIN = int(df.shape[0] * 0.80)\n",
        "\n",
        "X_train = df[FEATURES][:N_TRAIN]\n",
        "X_valid = df[FEATURES][N_TRAIN:]\n",
        "\n",
        "y_train_cls = encode_labels(df[LABEL_CLS][:N_TRAIN])\n",
        "y_train_reg = df[LABEL_REG][:N_TRAIN]\n",
        "\n",
        "y_valid_cls = encode_labels(df[LABEL_CLS][N_TRAIN:])\n",
        "y_valid_reg = df[LABEL_REG][N_TRAIN:]"
      ]
    },
    {
      "cell_type": "markdown",
      "metadata": {
        "id": "V9ic0G3KEFBY"
      },
      "source": [
        "Create `tf.data` datsets for both classification and regression."
      ]
    },
    {
      "cell_type": "code",
      "execution_count": 18,
      "metadata": {
        "id": "UEZA_32tEFBY"
      },
      "outputs": [],
      "source": [
        "# train/validation dataset for classification model\n",
        "cls_train_data = tf.data.Dataset.from_tensor_slices((X_train.to_dict('list'), y_train_cls))\n",
        "cls_valid_data = tf.data.Dataset.from_tensor_slices((X_valid.to_dict('list'), y_valid_cls))\n",
        "\n",
        "# train/validation dataset for regression model\n",
        "reg_train_data = tf.data.Dataset.from_tensor_slices((X_train.to_dict('list'), y_train_reg.values))\n",
        "reg_valid_data = tf.data.Dataset.from_tensor_slices((X_valid.to_dict('list'), y_valid_reg.values))"
      ]
    },
    {
      "cell_type": "code",
      "execution_count": 19,
      "metadata": {
        "id": "PJpjEIhvEFBZ",
        "outputId": "9335729c-bf7b-44c6-f968-bbebce57a4f4",
        "colab": {
          "base_uri": "https://localhost:8080/"
        }
      },
      "outputs": [
        {
          "output_type": "stream",
          "name": "stdout",
          "text": [
            "({'is_male': <tf.Tensor: shape=(), dtype=string, numpy=b'False'>, 'mother_age': <tf.Tensor: shape=(), dtype=int32, numpy=11>, 'plurality': <tf.Tensor: shape=(), dtype=string, numpy=b'Single(1)'>, 'gestation_weeks': <tf.Tensor: shape=(), dtype=int32, numpy=43>, 'mother_race': <tf.Tensor: shape=(), dtype=string, numpy=b'1.0'>}, <tf.Tensor: shape=(4,), dtype=float32, numpy=array([0., 0., 1., 0.], dtype=float32)>)\n",
            "\n",
            "({'is_male': <tf.Tensor: shape=(), dtype=string, numpy=b'False'>, 'mother_age': <tf.Tensor: shape=(), dtype=int32, numpy=11>, 'plurality': <tf.Tensor: shape=(), dtype=string, numpy=b'Single(1)'>, 'gestation_weeks': <tf.Tensor: shape=(), dtype=int32, numpy=43>, 'mother_race': <tf.Tensor: shape=(), dtype=string, numpy=b'1.0'>}, <tf.Tensor: shape=(1,), dtype=float64, numpy=array([6.62489097])>)\n",
            "\n"
          ]
        }
      ],
      "source": [
        "# Examine the two datasets. Notice the different label values.\n",
        "for data_type in [cls_train_data, reg_train_data]:\n",
        "    for dict_slice in data_type.take(1):\n",
        "        print(\"{}\\n\".format(dict_slice))"
      ]
    },
    {
      "cell_type": "code",
      "execution_count": 20,
      "metadata": {
        "id": "G8lAlMA9EFBZ",
        "outputId": "ab2970b2-67dd-49ef-9111-5d45e584afbb",
        "colab": {
          "base_uri": "https://localhost:8080/"
        }
      },
      "outputs": [
        {
          "output_type": "stream",
          "name": "stderr",
          "text": [
            "WARNING:tensorflow:From <ipython-input-20-5ee882bc5dd7>:2: numeric_column (from tensorflow.python.feature_column.feature_column_v2) is deprecated and will be removed in a future version.\n",
            "Instructions for updating:\n",
            "Use Keras preprocessing layers instead, either directly or via the `tf.keras.utils.FeatureSpace` utility. Each of `tf.feature_column.*` has a functional equivalent in `tf.keras.layers` for feature preprocessing when training a Keras model.\n",
            "WARNING:tensorflow:From <ipython-input-20-5ee882bc5dd7>:13: categorical_column_with_vocabulary_list (from tensorflow.python.feature_column.feature_column_v2) is deprecated and will be removed in a future version.\n",
            "Instructions for updating:\n",
            "Use Keras preprocessing layers instead, either directly or via the `tf.keras.utils.FeatureSpace` utility. Each of `tf.feature_column.*` has a functional equivalent in `tf.keras.layers` for feature preprocessing when training a Keras model.\n",
            "WARNING:tensorflow:From <ipython-input-20-5ee882bc5dd7>:15: indicator_column (from tensorflow.python.feature_column.feature_column_v2) is deprecated and will be removed in a future version.\n",
            "Instructions for updating:\n",
            "Use Keras preprocessing layers instead, either directly or via the `tf.keras.utils.FeatureSpace` utility. Each of `tf.feature_column.*` has a functional equivalent in `tf.keras.layers` for feature preprocessing when training a Keras model.\n"
          ]
        }
      ],
      "source": [
        "# create feature columns to handle categorical variables\n",
        "numeric_columns = [fc.numeric_column(\"mother_age\"),\n",
        "                  fc.numeric_column(\"gestation_weeks\")]\n",
        "\n",
        "CATEGORIES = {\n",
        "    'plurality': list(df.plurality.unique()),\n",
        "    'is_male' : list(df.is_male.unique()),\n",
        "    'mother_race': list(df.mother_race.unique())\n",
        "}\n",
        "\n",
        "categorical_columns = []\n",
        "for feature, vocab in CATEGORIES.items():\n",
        "    cat_col = fc.categorical_column_with_vocabulary_list(\n",
        "        key=feature, vocabulary_list=vocab, dtype=tf.string)\n",
        "    categorical_columns.append(fc.indicator_column(cat_col))"
      ]
    },
    {
      "cell_type": "code",
      "execution_count": 21,
      "metadata": {
        "id": "lZRkSaLBEFBZ"
      },
      "outputs": [],
      "source": [
        "# create Inputs for model\n",
        "inputs = {colname: tf.keras.layers.Input(\n",
        "    name=colname, shape=(), dtype=\"float32\")\n",
        "    for colname in [\"mother_age\", \"gestation_weeks\"]}\n",
        "inputs.update({colname: tf.keras.layers.Input(\n",
        "    name=colname, shape=(), dtype=tf.string)\n",
        "    for colname in [\"plurality\", \"is_male\", \"mother_race\"]})\n",
        "\n",
        "# build DenseFeatures for the model\n",
        "dnn_inputs = layers.DenseFeatures(categorical_columns+numeric_columns)(inputs)\n",
        "\n",
        "# create hidden layers\n",
        "h1 = layers.Dense(20, activation=\"relu\")(dnn_inputs)\n",
        "h2 = layers.Dense(10, activation=\"relu\")(h1)\n",
        "\n",
        "# create classification model\n",
        "cls_output = layers.Dense(4, activation=\"softmax\")(h2)\n",
        "cls_model = tf.keras.models.Model(inputs=inputs, outputs=cls_output)\n",
        "cls_model.compile(optimizer='adam',\n",
        "              loss=tf.keras.losses.CategoricalCrossentropy(),\n",
        "              metrics=['accuracy'])\n",
        "\n",
        "\n",
        "# create regression model\n",
        "reg_output = layers.Dense(1, activation=\"relu\")(h2)\n",
        "reg_model = tf.keras.models.Model(inputs=inputs, outputs=reg_output)\n",
        "reg_model.compile(optimizer='adam',\n",
        "              loss=tf.keras.losses.MeanSquaredError(),\n",
        "              metrics=['mse'])"
      ]
    },
    {
      "cell_type": "markdown",
      "metadata": {
        "id": "hJZRDe3qEFBZ"
      },
      "source": [
        "First, train the classification model and examine the validation accuracy."
      ]
    },
    {
      "cell_type": "code",
      "execution_count": 22,
      "metadata": {
        "id": "LYP_t1yxEFBZ",
        "outputId": "b0d2c8e6-1f44-4bde-93fd-13295699ab07",
        "colab": {
          "base_uri": "https://localhost:8080/"
        }
      },
      "outputs": [
        {
          "output_type": "stream",
          "name": "stdout",
          "text": [
            "1043/1043 [==============================] - 4s 3ms/step - loss: 0.4983 - accuracy: 0.8503\n",
            "1/1 [==============================] - 1s 584ms/step - loss: 0.8804 - accuracy: 0.7011\n",
            "Validation accuracy for classifcation model: 0.7011052966117859\n"
          ]
        }
      ],
      "source": [
        "# train the classifcation model\n",
        "cls_model.fit(cls_train_data.batch(50), epochs=1)\n",
        "\n",
        "val_loss, val_accuracy = cls_model.evaluate(cls_valid_data.batch(X_valid.shape[0]))\n",
        "print(\"Validation accuracy for classifcation model: {}\".format(val_accuracy))"
      ]
    },
    {
      "cell_type": "markdown",
      "metadata": {
        "id": "SR79VzL-EFBZ"
      },
      "source": [
        "Next, we'll train the regression model and examine the validation RMSE."
      ]
    },
    {
      "cell_type": "code",
      "execution_count": 23,
      "metadata": {
        "id": "KPtpiSq9EFBZ",
        "outputId": "a2ceefa8-2052-4db2-f5ff-d6fef469c603",
        "colab": {
          "base_uri": "https://localhost:8080/"
        }
      },
      "outputs": [
        {
          "output_type": "stream",
          "name": "stdout",
          "text": [
            "1043/1043 [==============================] - 4s 3ms/step - loss: 2.1853 - mse: 2.1853\n",
            "1/1 [==============================] - 0s 455ms/step - loss: 1.8847 - mse: 1.8847\n",
            "Validation RMSE for regression model: 1.3728313683894084\n"
          ]
        }
      ],
      "source": [
        "# train the classifcation model\n",
        "reg_model.fit(reg_train_data.batch(50), epochs=1)\n",
        "\n",
        "val_loss, val_mse = reg_model.evaluate(reg_valid_data.batch(X_valid.shape[0]))\n",
        "print(\"Validation RMSE for regression model: {}\".format(val_mse**0.5))"
      ]
    },
    {
      "cell_type": "markdown",
      "metadata": {
        "id": "9LgwJHXJEFBZ"
      },
      "source": [
        "The regression model gives a single numeric prediction of baby weight."
      ]
    },
    {
      "cell_type": "code",
      "execution_count": 24,
      "metadata": {
        "id": "7EzmjP8cEFBZ",
        "outputId": "254972c3-f22a-4897-aa82-b2bf738a81b1",
        "colab": {
          "base_uri": "https://localhost:8080/"
        }
      },
      "outputs": [
        {
          "output_type": "stream",
          "name": "stdout",
          "text": [
            "1/1 [==============================] - 0s 228ms/step\n"
          ]
        },
        {
          "output_type": "execute_result",
          "data": {
            "text/plain": [
              "array(7.179378, dtype=float32)"
            ]
          },
          "metadata": {},
          "execution_count": 24
        }
      ],
      "source": [
        "preds = reg_model.predict(x={\"gestation_weeks\": tf.convert_to_tensor([38]),\n",
        "                             \"is_male\": tf.convert_to_tensor([\"True\"]),\n",
        "                             \"mother_age\": tf.convert_to_tensor([28]),\n",
        "                             \"mother_race\": tf.convert_to_tensor([\"1.0\"]),\n",
        "                             \"plurality\": tf.convert_to_tensor([\"Single(1)\"])},\n",
        "                          steps=1).squeeze()\n",
        "preds"
      ]
    },
    {
      "cell_type": "markdown",
      "metadata": {
        "id": "-KJ-VDq0EFBa"
      },
      "source": [
        "The classification model predicts a probability for each bucket of values."
      ]
    },
    {
      "cell_type": "code",
      "execution_count": 25,
      "metadata": {
        "id": "27AGZx3FEFBb",
        "outputId": "8e263bc9-7e59-46f1-fd68-e22dbb15bb18",
        "colab": {
          "base_uri": "https://localhost:8080/"
        }
      },
      "outputs": [
        {
          "output_type": "stream",
          "name": "stdout",
          "text": [
            "1/1 [==============================] - 0s 175ms/step\n"
          ]
        },
        {
          "output_type": "execute_result",
          "data": {
            "text/plain": [
              "array([5.5323049e-05, 3.5874374e-02, 8.4117544e-01, 1.2289484e-01],\n",
              "      dtype=float32)"
            ]
          },
          "metadata": {},
          "execution_count": 25
        }
      ],
      "source": [
        "preds = cls_model.predict(x={\"gestation_weeks\": tf.convert_to_tensor([38]),\n",
        "                             \"is_male\": tf.convert_to_tensor([\"True\"]),\n",
        "                             \"mother_age\": tf.convert_to_tensor([28]),\n",
        "                             \"mother_race\": tf.convert_to_tensor([\"1.0\"]),\n",
        "                             \"plurality\": tf.convert_to_tensor([\"Single(1)\"])},\n",
        "                          steps=1).squeeze()\n",
        "preds"
      ]
    },
    {
      "cell_type": "code",
      "execution_count": 26,
      "metadata": {
        "id": "_XBrvvpOEFBb",
        "outputId": "eb2bd4a8-b199-4ff0-af74-e8353645473e",
        "colab": {
          "base_uri": "https://localhost:8080/",
          "height": 452
        }
      },
      "outputs": [
        {
          "output_type": "display_data",
          "data": {
            "text/plain": [
              "<Figure size 640x480 with 1 Axes>"
            ],
            "image/png": "[encoded data removed]"
          },
          "metadata": {}
        }
      ],
      "source": [
        "objects = ('very_low', 'low', 'average', 'high')\n",
        "y_pos = np.arange(len(objects))\n",
        "predictions = list(preds)\n",
        "\n",
        "plt.bar(y_pos, predictions, align='center', alpha=0.5)\n",
        "plt.xticks(y_pos, objects)\n",
        "plt.title('Baby weight prediction')\n",
        "\n",
        "plt.show()"
      ]
    },
    {
      "cell_type": "markdown",
      "metadata": {
        "id": "ZXXZKXaJEFBb"
      },
      "source": [
        "## Increasing the number of  categorical labels"
      ]
    },
    {
      "cell_type": "markdown",
      "metadata": {
        "id": "u3LhvzT1EFBb"
      },
      "source": [
        "We'll generalize the code above to accommodate `N` label buckets, instead of just 4."
      ]
    },
    {
      "cell_type": "code",
      "execution_count": 32,
      "metadata": {
        "id": "TRsQhF-tEFBb"
      },
      "outputs": [],
      "source": [
        "# Read in the data and preprocess\n",
        "df = pd.read_csv(\"https://raw.githubusercontent.com/bxdong7/ml-design-patterns/master/03_problem_representation/data/babyweight_train.csv\")\n",
        "\n",
        "# prepare inputs\n",
        "df.is_male = df.is_male.astype(str)\n",
        "\n",
        "df.mother_race.fillna(0, inplace = True)\n",
        "df.mother_race = df.mother_race.astype(str)\n",
        "\n",
        "# create categorical label\n",
        "MIN = np.min(df.weight_pounds)\n",
        "MAX = np.max(df.weight_pounds)\n",
        "NBUCKETS = 50\n",
        "\n",
        "def categorical_weight(weight_pounds, weight_min, weight_max, nbuckets=10):\n",
        "    buckets = np.linspace(weight_min, weight_max, nbuckets)\n",
        "\n",
        "    return np.digitize(weight_pounds, buckets) - 1\n",
        "\n",
        "df[\"weight_category\"] = df.weight_pounds.apply(lambda x: categorical_weight(x, MIN, MAX, NBUCKETS))"
      ]
    },
    {
      "cell_type": "code",
      "execution_count": 33,
      "metadata": {
        "id": "yIkezmGHEFBb"
      },
      "outputs": [],
      "source": [
        "def encode_labels(classes):\n",
        "    one_hots = to_categorical(classes)\n",
        "    return one_hots\n",
        "\n",
        "FEATURES = ['is_male', 'mother_age', 'plurality', 'gestation_weeks', 'mother_race']\n",
        "LABEL_COLUMN = ['weight_category']\n",
        "\n",
        "N_TRAIN = int(df.shape[0] * 0.80)\n",
        "\n",
        "X_train, y_train = df[FEATURES][:N_TRAIN], encode_labels(df[LABEL_COLUMN][:N_TRAIN])\n",
        "X_valid, y_valid = df[FEATURES][N_TRAIN:], encode_labels(df[LABEL_COLUMN][N_TRAIN:])"
      ]
    },
    {
      "cell_type": "code",
      "execution_count": 34,
      "metadata": {
        "id": "WE9SHvvgEFBb"
      },
      "outputs": [],
      "source": [
        "# create the training dataset\n",
        "train_data = tf.data.Dataset.from_tensor_slices((X_train.to_dict('list'), y_train))\n",
        "valid_data = tf.data.Dataset.from_tensor_slices((X_valid.to_dict('list'), y_valid))"
      ]
    },
    {
      "cell_type": "markdown",
      "metadata": {
        "id": "PVKtG9hdEFBb"
      },
      "source": [
        "Create the feature columns and build the model."
      ]
    },
    {
      "cell_type": "code",
      "execution_count": 35,
      "metadata": {
        "id": "CrJejYXbEFBb"
      },
      "outputs": [],
      "source": [
        "# create feature columns to handle categorical variables\n",
        "numeric_columns = [fc.numeric_column(\"mother_age\"),\n",
        "                  fc.numeric_column(\"gestation_weeks\")]\n",
        "\n",
        "CATEGORIES = {\n",
        "    'plurality': list(df.plurality.unique()),\n",
        "    'is_male' : list(df.is_male.unique()),\n",
        "    'mother_race': list(df.mother_race.unique())\n",
        "}\n",
        "\n",
        "categorical_columns = []\n",
        "for feature, vocab in CATEGORIES.items():\n",
        "    cat_col = fc.categorical_column_with_vocabulary_list(\n",
        "        key=feature, vocabulary_list=vocab, dtype=tf.string)\n",
        "    categorical_columns.append(fc.indicator_column(cat_col))"
      ]
    },
    {
      "cell_type": "code",
      "execution_count": 36,
      "metadata": {
        "id": "8nZQcG19EFBb"
      },
      "outputs": [],
      "source": [
        "# create Inputs for model\n",
        "inputs = {colname: tf.keras.layers.Input(\n",
        "    name=colname, shape=(), dtype=\"float32\")\n",
        "    for colname in [\"mother_age\", \"gestation_weeks\"]}\n",
        "inputs.update({colname: tf.keras.layers.Input(\n",
        "    name=colname, shape=(), dtype=tf.string)\n",
        "    for colname in [\"plurality\", \"is_male\", \"mother_race\"]})\n",
        "\n",
        "# build DenseFeatures for the model\n",
        "dnn_inputs = layers.DenseFeatures(categorical_columns+numeric_columns)(inputs)\n",
        "\n",
        "# model\n",
        "h1 = layers.Dense(20, activation=\"relu\")(dnn_inputs)\n",
        "h2 = layers.Dense(10, activation=\"relu\")(h1)\n",
        "output = layers.Dense(NBUCKETS, activation=\"softmax\")(h2)\n",
        "model = tf.keras.models.Model(inputs=inputs, outputs=output)\n",
        "\n",
        "model.compile(optimizer='adam',\n",
        "              loss=tf.keras.losses.CategoricalCrossentropy(),\n",
        "              metrics=['accuracy'])"
      ]
    },
    {
      "cell_type": "code",
      "execution_count": 37,
      "metadata": {
        "id": "_F5r4V_FEFBb",
        "outputId": "57ad9a62-49bd-4b0d-9452-d8b1f832ff00",
        "colab": {
          "base_uri": "https://localhost:8080/"
        }
      },
      "outputs": [
        {
          "output_type": "stream",
          "name": "stdout",
          "text": [
            "4234/4234 [==============================] - 13s 3ms/step - loss: 2.6375 - accuracy: 0.1344\n"
          ]
        },
        {
          "output_type": "execute_result",
          "data": {
            "text/plain": [
              "<keras.src.callbacks.History at 0x7af666d4b250>"
            ]
          },
          "metadata": {},
          "execution_count": 37
        }
      ],
      "source": [
        "# train the model\n",
        "model.fit(train_data.batch(50), epochs=1)"
      ]
    },
    {
      "cell_type": "markdown",
      "metadata": {
        "id": "20cFwBGCEFBb"
      },
      "source": [
        "Make a prediction on the example above."
      ]
    },
    {
      "cell_type": "code",
      "execution_count": 38,
      "metadata": {
        "id": "Mf7Kf6I6EFBc",
        "outputId": "27e647ac-2379-4f39-f76d-9cdc49763e70",
        "colab": {
          "base_uri": "https://localhost:8080/"
        }
      },
      "outputs": [
        {
          "output_type": "stream",
          "name": "stdout",
          "text": [
            "1/1 [==============================] - 0s 201ms/step\n"
          ]
        }
      ],
      "source": [
        "preds = model.predict(x={\"gestation_weeks\": tf.convert_to_tensor([38]),\n",
        "                         \"is_male\": tf.convert_to_tensor([\"True\"]),\n",
        "                         \"mother_age\": tf.convert_to_tensor([28]),\n",
        "                         \"mother_race\": tf.convert_to_tensor([\"1.0\"]),\n",
        "                         \"plurality\": tf.convert_to_tensor([\"Single(1)\"])},\n",
        "                      steps=1).squeeze()"
      ]
    },
    {
      "cell_type": "code",
      "execution_count": 40,
      "metadata": {
        "id": "LkNn2kJOEFBc",
        "outputId": "ffbe67e3-36f8-4a53-d5c7-794212c9c50f",
        "colab": {
          "base_uri": "https://localhost:8080/",
          "height": 452
        }
      },
      "outputs": [
        {
          "output_type": "display_data",
          "data": {
            "text/plain": [
              "<Figure size 640x480 with 1 Axes>"
            ],
            "image/png": "[encoded data removed]"
          },
          "metadata": {}
        }
      ],
      "source": [
        "objects = [str(_) for _ in range(NBUCKETS)]\n",
        "y_pos = np.arange(len(objects))\n",
        "predictions = list(preds)\n",
        "\n",
        "plt.bar(y_pos, predictions, align='center', alpha=0.5)\n",
        "plt.xticks(y_pos, objects)\n",
        "plt.title('Baby weight prediction')\n",
        "\n",
        "plt.show()"
      ]
    },
    {
      "cell_type": "markdown",
      "metadata": {
        "id": "chvFC9NwEFBc"
      },
      "source": [
        "## Restricting the prediction range\n",
        "\n",
        "One way to restrict the prediction range is to make the last-but-one activation function sigmoid instead, and add a lambda layer to scale the (0,1) values to the desired range. The drawback is that it will be difficult for the neural network to reach the extreme values."
      ]
    },
    {
      "cell_type": "code",
      "execution_count": 41,
      "metadata": {
        "id": "3joVHnSlEFBc",
        "outputId": "da954bce-9563-4d80-fe65-e54bf8cb2249",
        "colab": {
          "base_uri": "https://localhost:8080/"
        }
      },
      "outputs": [
        {
          "output_type": "stream",
          "name": "stdout",
          "text": [
            "64/64 [==============================] - 1s 2ms/step - loss: 10.6988\n",
            "64/64 [==============================] - 0s 2ms/step - loss: 7.8493\n",
            "64/64 [==============================] - 0s 2ms/step - loss: 4.9049\n",
            "64/64 [==============================] - 0s 2ms/step - loss: 3.1296\n",
            "64/64 [==============================] - 0s 2ms/step - loss: 1.7198\n",
            "64/64 [==============================] - 0s 2ms/step - loss: 1.2683\n",
            "64/64 [==============================] - 0s 3ms/step - loss: 0.8832\n",
            "64/64 [==============================] - 0s 3ms/step - loss: 0.6462\n",
            "64/64 [==============================] - 0s 3ms/step - loss: 0.4718\n",
            "64/64 [==============================] - 0s 4ms/step - loss: 0.3798\n",
            "64/64 [==============================] - 0s 2ms/step\n",
            "64/64 [==============================] - 0s 3ms/step\n",
            "64/64 [==============================] - 0s 3ms/step\n",
            "64/64 [==============================] - 0s 1ms/step\n",
            "64/64 [==============================] - 0s 2ms/step\n",
            "64/64 [==============================] - 0s 1ms/step\n",
            "64/64 [==============================] - 0s 2ms/step\n",
            "64/64 [==============================] - 0s 1ms/step\n",
            "64/64 [==============================] - 0s 1ms/step\n",
            "64/64 [==============================] - 0s 1ms/step\n",
            "min=3.0245704650878906 max=19.985307693481445\n"
          ]
        }
      ],
      "source": [
        "import numpy as np\n",
        "import tensorflow as tf\n",
        "from tensorflow import keras\n",
        "\n",
        "MIN_Y =  3\n",
        "MAX_Y = 20\n",
        "input_size = 10\n",
        "inputs = keras.layers.Input(shape=(input_size,))\n",
        "h1 = keras.layers.Dense(20, 'relu')(inputs)\n",
        "h2 = keras.layers.Dense(1, 'sigmoid')(h1)  # 0-1 range\n",
        "output = keras.layers.Lambda(lambda y : (y*(MAX_Y-MIN_Y) + MIN_Y))(h2) # scaled\n",
        "model = keras.Model(inputs, output)\n",
        "\n",
        "# fit the model\n",
        "model.compile(optimizer='adam', loss='mse')\n",
        "batch_size = 2048\n",
        "for i in range(0, 10):\n",
        "    x = np.random.rand(batch_size, input_size)\n",
        "    y = 0.5*(x[:,0] + x[:,1]) * (MAX_Y-MIN_Y) + MIN_Y\n",
        "    model.fit(x, y)\n",
        "\n",
        "# verify\n",
        "min_y = np.finfo(np.float64).max\n",
        "max_y = np.finfo(np.float64).min\n",
        "for i in range(0, 10):\n",
        "    x = np.random.randn(batch_size, input_size)\n",
        "    y = model.predict(x)\n",
        "    min_y = min(y.min(), min_y)\n",
        "    max_y = max(y.max(), max_y)\n",
        "print('min={} max={}'.format(min_y, max_y))"
      ]
    },
    {
      "cell_type": "markdown",
      "metadata": {
        "id": "iVgtw2QeEFBc"
      },
      "source": [
        "Copyright 2020 Google Inc. Licensed under the Apache License, Version 2.0 (the \"License\"); you may not use this file except in compliance with the License. You may obtain a copy of the License at http://www.apache.org/licenses/LICENSE-2.0 Unless required by applicable law or agreed to in writing, software distributed under the License is distributed on an \"AS IS\" BASIS, WITHOUT WARRANTIES OR CONDITIONS OF ANY KIND, either express or implied. See the License for the specific language governing permissions and limitations under the License"
      ]
    }
  ],
  "metadata": {
    "kernelspec": {
      "display_name": "Python 3",
      "language": "python",
      "name": "python3"
    },
    "language_info": {
      "codemirror_mode": {
        "name": "ipython",
        "version": 3
      },
      "file_extension": ".py",
      "mimetype": "text/x-python",
      "name": "python",
      "nbconvert_exporter": "python",
      "pygments_lexer": "ipython3",
      "version": "3.5.3"
    },
    "colab": {
      "provenance": []
    }
  },
  "nbformat": 4,
  "nbformat_minor": 0
}